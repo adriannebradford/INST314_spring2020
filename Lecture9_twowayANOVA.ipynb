{
 "cells": [
  {
   "cell_type": "markdown",
   "metadata": {},
   "source": [
    "# Two-Way ANOVA\n",
    "<a id = \"top\"></a>\n",
    "A two-way ANOVA allows us to compare the mean of a numerical variable between groups of TWO categorical variables AND assess if there's an interaction effect (combination effect from the two predictors).  This is the first time in the course that we will be able to have more than one predictor that influences our outcome.\n",
    "\n",
    "- [Two-way ANOVA basics](#basics)\n",
    "    - [Graphically looking at differences in group means](#graph)\n",
    "    - [Decomposing Variance](#decomp)\n",
    "    - [Conducting the F-test (ANOVA)](#ftest)\n",
    "    - [Interpreting the Result](#interp)\n",
    "- [Assumptions](#assump)\n",
    "    - [Basic Assumptions](#baseassump)\n",
    "    - [Homogeneity of Variances (Levene's Test)](#homovar)\n",
    "    - [Normality of Residuals (QQ Plots)](#resid)\n",
    "- [Post-hoc Pairwise Comparisons](#posthoc)\n",
    "    - [Tukey's Honest Significant Difference (HSD)](#tukey)\n",
    "- [Effect Size](#effect)\n",
    "    - [R-squared](#rsq)\n",
    "    - [Cohen's $f$](#cohen)"
   ]
  },
  {
   "cell_type": "code",
   "execution_count": null,
   "metadata": {},
   "outputs": [],
   "source": [
    "library(tidyverse)\n",
    "library(magrittr)\n",
    "library(ggpubr) # containes line/dot plot for visualizing means\n",
    "library(DescTools) # contains levene's test function\n",
    "library(pwr) # for power analysis\n",
    "library(scales) ## for scaling functions for ggplot2\n",
    "library(gridExtra) # for side-by-side plots\n",
    "\n",
    "options(repr.plot.width=14, repr.plot.height=5) ## set options for plot size within the notebook -\n",
    "# this is only for jupyter notebooks, you can disregard this."
   ]
  },
  {
   "cell_type": "markdown",
   "metadata": {},
   "source": [
    "<a id = \"basics\"></a>\n",
    "## Two-way ANOVA Basics\n",
    "For this in-class example we're going to use a small example dataset built in to R - \"warpbreaks.\"  \n",
    "https://stat.ethz.ch/R-manual/R-patched/library/datasets/html/warpbreaks.html\n",
    "\n",
    "We have three variables that describe weaving on 54 looms - 9 looms in each combo of wool and tension:\n",
    "- breaks\tnumeric\tThe number of breaks\n",
    "- wool\t    factor\tThe type of wool (A or B)\n",
    "- tension\tfactor\tThe level of tension (L, M, H)\n",
    "\n",
    "We will now be able to see if the type of tension (low, medium, or high) and/or the type of wool (A vs. B) have an effect on the number of breaks.  So we're looking to see if the mean number of breaks differs significantly by loom tension and type of wool used."
   ]
  },
  {
   "cell_type": "code",
   "execution_count": null,
   "metadata": {},
   "outputs": [],
   "source": [
    "# basic summary statistics\n",
    "data(warpbreaks)\n",
    "summary(warpbreaks)\n",
    "warpbreaks %$% table(wool, tension) ## new pipe operator - http://www.deeplytrivial.com/2020/04/e-is-for-exposition-pipe.html"
   ]
  },
  {
   "cell_type": "markdown",
   "metadata": {},
   "source": [
    "[Return to Top](#top)\n",
    "<a id = \"graph\"></a>\n",
    "### Graphically looking at differences in group means.\n",
    "We should always begin by visualizing the distribution of warp breaks within the three groups (low, medium, and high tension).  There are a number of ways that we can look at the difference in distributions.  Here I'm going to look at two - density curve and boxplot."
   ]
  },
  {
   "cell_type": "code",
   "execution_count": null,
   "metadata": {},
   "outputs": [],
   "source": [
    "## density plot\n",
    "d1 <- warpbreaks %>%\n",
    "  ggplot( aes(x=breaks, fill=tension)) +\n",
    "    geom_density(alpha=0.6) +\n",
    "    scale_fill_manual(values=c(\"#26d5b8\", \"#ff5733\", \"magenta\")) +\n",
    "    labs(fill= \"Tension\",\n",
    "         y = \"Density\",\n",
    "         x = \"Warp Breaks\",\n",
    "         title = \"Distribution of warp breaks by loom tension\")\n",
    "\n",
    "d2 <- warpbreaks %>%\n",
    "  ggplot( aes(x=breaks, fill=wool)) +\n",
    "    geom_density(alpha=0.6) +\n",
    "    scale_fill_manual(values=c(\"#26d5b8\", \"#ff5733\")) +\n",
    "    labs(fill= \"Wool\",\n",
    "         y = \"Density\",\n",
    "         x = \"Warp Breaks\",\n",
    "         title = \"Distribution of warp breaks by type of wool\")\n",
    "\n",
    "grid.arrange(d1, d2, ncol = 2)"
   ]
  },
  {
   "cell_type": "code",
   "execution_count": null,
   "metadata": {},
   "outputs": [],
   "source": [
    "#boxplot\n",
    "boxp <- warpbreaks %>%\n",
    "  ggplot( aes(y=breaks, x=tension, fill=tension)) +\n",
    "    geom_boxplot() +\n",
    "    stat_summary(fun.y = mean, geom = \"errorbar\", aes(ymax = ..y.., ymin = ..y.., color = \"mean\"),\n",
    "                 width = 0.75, linetype = \"solid\", size = 2) +\n",
    "    stat_summary(fun.data=mean_sdl, fun.args = list(mult=1), \n",
    "                geom=\"errorbar\", color=\"#39ff14\", width=0.2, size = 1) +\n",
    "    scale_fill_manual(values=c(\"#26d5b8\", \"#ff5733\", \"magenta\")) +\n",
    "    scale_color_manual(values = \"#39ff14\")+\n",
    "    labs(fill= \"Tension\",\n",
    "         y = \"Warp Breaks\",\n",
    "         x = \"Loom Tension\",\n",
    "         color = \"Group Mean\",\n",
    "         title = \"Distribution of warp breaks by loom tension\")\n",
    "\n",
    "boxp2 <- warpbreaks %>%\n",
    "  ggplot( aes(y=breaks, x=wool, fill=wool)) +\n",
    "    geom_boxplot() +\n",
    "    stat_summary(fun.y = mean, geom = \"errorbar\", aes(ymax = ..y.., ymin = ..y.., color = \"mean\"),\n",
    "                 width = 0.75, linetype = \"solid\", size = 2) +\n",
    "    stat_summary(fun.data=mean_sdl, fun.args = list(mult=1), \n",
    "                geom=\"errorbar\", color=\"#39ff14\", width=0.2, size = 1) +\n",
    "    scale_fill_manual(values=c(\"#26d5b8\", \"#ff5733\")) +\n",
    "    scale_color_manual(values = \"#39ff14\")+\n",
    "    labs(fill= \"Wool\",\n",
    "         y = \"Warp Breaks\",\n",
    "         x = \"Type of Wool\",\n",
    "         color = \"Group Mean\",\n",
    "         title = \"Distribution of warp breaks by type of wool\")\n",
    "\n",
    "grid.arrange(boxp, boxp2, ncol = 2)"
   ]
  },
  {
   "cell_type": "markdown",
   "metadata": {},
   "source": [
    "We're already familiar with the distribution of warp breaks by tension, but now we are adding wool into the mix.  Wool A has a more normal distribution of breaks than Wool B, although both have positive skew.  The boxplot showing breaks by the type of wool shows that the medians are very similar, however the means are not.  And the spread (IQR, variance) of the distribution within Wool A appears to be larger than within Wool B.\n",
    "\n",
    "For our Two-Way ANOVA we'll want to look at one more graph - A line plot of the means that will allow us to visualize any possible interactions:"
   ]
  },
  {
   "cell_type": "code",
   "execution_count": null,
   "metadata": {},
   "outputs": [],
   "source": [
    "bold.14.text <- element_text(face = \"bold\", size = 14)\n",
    "\n",
    "int1 <- warpbreaks %>% \n",
    "  ggplot(aes(x = wool, color = tension, group = tension, y = breaks)) +\n",
    "  stat_summary(fun.y = mean, geom = \"point\", size = 5) +\n",
    "  stat_summary(fun.y = mean, geom = \"line\", size = 2) +\n",
    "  labs(title = \"Average Breaks by Wool Type and Tension\") +\n",
    "  theme(text = bold.14.text) \n",
    "int2 <- warpbreaks %>% \n",
    "  ggplot(aes(x = tension, color = wool, group = wool, y = breaks)) +\n",
    "  stat_summary(fun.y = mean, geom = \"point\", size = 5) +\n",
    "  stat_summary(fun.y = mean, geom = \"line\", size = 2) +\n",
    "  labs(title = \"Average Breaks by Tension and Wool Type\") +\n",
    "  theme(text = bold.14.text)\n",
    "grid.arrange(int1, int2, ncol = 2)"
   ]
  },
  {
   "cell_type": "markdown",
   "metadata": {},
   "source": [
    "What interactions show us is any potential combined influence of the two predictors.  For example, in this graph, we can see that there appears to be a significant interaction between wool and tension and their influence on number of breaks. \n",
    "\n",
    "What is the visual cue of an interaction effect?   If there is no interaction, the lines between the means within each group would be parallel.  If they are not parallel that suggests there might be an interaction.  If they cross, that's strong suggestion that an interaction exists.\n",
    "\n",
    "We can interpret it from two directions:\n",
    "\n",
    "- How well the wool performs depends on the tension of the loom.\n",
    "- The effect of loom tension depends on the type of wool.\n",
    "\n",
    "Comparing Wool A to Wool B \n",
    "- In Wool A - medium and high tension perform similarly and low tension leads to an extreme amount of breaks\n",
    "- In Wool B - high tension yields an extremely low number of breaks, low and medium tension perform similarly.\n",
    "\n",
    "Within Tension Groups\n",
    "- Low Tension performs better with Wool B\n",
    "- Medium Tension performs better with Wool A\n",
    "- High Tensions performs better with Wool B\n",
    "\n",
    "[Return to Top](#top)\n",
    "<a id = \"decomp\"></a>\n",
    "### Decomposing Variance\n",
    "The first step in conducting an ANOVA analysis is calculating the sum of squares.  For a two-way ANOVA with an interaction term we decompose the total sum of squares (SST) into 4 pieces:\n",
    "- The group SS for the first categorical variable\n",
    "- The group SS for the second categorical variable\n",
    "- The SS for the interaction of the two categorical predictors\n",
    "- The Residual SS (\"whatever's left over\")\n",
    "\n",
    "![](slide_42.jpg)\n",
    "\n",
    "Where these are the definitions for the terms:\n",
    "![](defs.PNG)\n",
    "\n",
    "First, let's calculate the total sum of squares (SST):\n",
    "![](SST.PNG)"
   ]
  },
  {
   "cell_type": "code",
   "execution_count": null,
   "metadata": {},
   "outputs": [],
   "source": [
    "overallmean <- mean(warpbreaks$breaks)\n",
    "warpbreaks %<>% mutate(SS = (breaks - overallmean)^2)\n",
    "SST <- sum(warpbreaks$SS)\n",
    "SST"
   ]
  },
  {
   "cell_type": "markdown",
   "metadata": {},
   "source": [
    "Now that we know SST, once we calculate some other sum of squares, we can use subtraction to find the last one without manual calculation.\n",
    "\n",
    "Let's move next to the SS_wool (Factor A in the above table):\n",
    "![](SSA.PNG)\n",
    "\n",
    "Here c is the number of levels of the OTHER categorical variable (tension, 3 levels) and n' is the sample size within each cell of the two-way table of wool x tension (9)."
   ]
  },
  {
   "cell_type": "code",
   "execution_count": null,
   "metadata": {},
   "outputs": [],
   "source": [
    "fact_a <- warpbreaks %>% group_by(wool) %>% \n",
    "                         summarize(group_mean = mean(breaks)) %>% \n",
    "                         mutate(SS = (group_mean - overallmean)^2)\n",
    "\n",
    "fact_a\n",
    "SSA <- 3*9*(sum(fact_a$SS))\n",
    "SSA"
   ]
  },
  {
   "cell_type": "markdown",
   "metadata": {},
   "source": [
    "We calculate the SS for the second predictor (tension) in the same manner.  The n' is still 9 and we multiply by the number of groups in the OTHER variable (wool has 2 groups).\n",
    "\n",
    "![](SSB.PNG)"
   ]
  },
  {
   "cell_type": "code",
   "execution_count": null,
   "metadata": {},
   "outputs": [],
   "source": [
    "fact_b <- warpbreaks %>% group_by(tension) %>% \n",
    "                         summarize(group_mean = mean(breaks)) %>% \n",
    "                         mutate(SS = (group_mean - overallmean)^2)\n",
    "\n",
    "fact_b\n",
    "SSB <- 2*9*(sum(fact_b$SS))\n",
    "SSB"
   ]
  },
  {
   "cell_type": "markdown",
   "metadata": {},
   "source": [
    "We have two more sums of squares to calculate, one for the interaction and one for the residuals.\n",
    "\n",
    "![](SSABE.PNG)\n",
    "\n",
    "Calculating the sum of squares for the interaction term is a bit harder.  So let's calculate SSE and use all of our calculated sums of squares to get SSAB from subtraction from the total (SST)."
   ]
  },
  {
   "cell_type": "code",
   "execution_count": null,
   "metadata": {},
   "outputs": [],
   "source": [
    "resid <- warpbreaks %>% group_by(wool, tension) %>% \n",
    "                        mutate(cellmean = mean(breaks)) %>% \n",
    "                        ungroup() %>% \n",
    "                        mutate(SS = (breaks - cellmean)^2)\n",
    "head(resid)\n",
    "SSE <- sum(resid$SS)\n",
    "SSE\n"
   ]
  },
  {
   "cell_type": "markdown",
   "metadata": {},
   "source": [
    "So, we know SST, SSA, SSB, and SSE.  We still need SSAB, but since \n",
    "\n",
    "#### SST = SSA + SSB + SSAB + SSE\n",
    "\n",
    "we can calculate SSAB:"
   ]
  },
  {
   "cell_type": "code",
   "execution_count": null,
   "metadata": {},
   "outputs": [],
   "source": [
    "SSAB <- SST - SSA - SSB - SSE\n",
    "SSAB"
   ]
  },
  {
   "cell_type": "markdown",
   "metadata": {},
   "source": [
    "So we were able to calculate all of the sum of squares.  I'm not going to build the entire ANOVA table, but let's visit degrees of freedom really quick:\n",
    "\n",
    "![](dof.PNG)\n",
    "\n",
    "[Return to Top](#top)\n",
    "<a id = \"ftest\"></a>\n",
    "\n",
    "### Conducting the F-test (ANOVA)\n",
    "Recall that an ANOVA table looks something like this: \n",
    "![](slide_42.jpg)\n",
    "\n",
    "Instead of calculating all the pieces, we're just going to run `aov()`"
   ]
  },
  {
   "cell_type": "code",
   "execution_count": null,
   "metadata": {},
   "outputs": [],
   "source": [
    "summary(aov(breaks ~ wool*tension, data = warpbreaks))"
   ]
  },
  {
   "cell_type": "markdown",
   "metadata": {},
   "source": [
    "The mean sum of squares for each predictor has been calculated by dividing SS for that predictor by the degrees of freedom for that predictor.  \n",
    "\n",
    "Then those MS values are used to calculate an F-ratio for EACH predictor.  With two categorical variables we get two \"main effects\" and F-ratios and one \"interaction effect\" and a third F-ratio.\n",
    "\n",
    "\n",
    "[Return to Top](#top)\n",
    "<a id = \"interp\"></a>\n",
    "\n",
    "### Interpreting the Result\n",
    "\n",
    "We have three F-tests and three p-values to interpret.\n",
    "\n",
    "1. The main effect of wool.  Setting everything else aside, the p-value for the effect of wool on breaks is 0.058, which is slightly above an alpha of 0.05, indicating that wool is not a significant predictor of breaks (_on its own..._)\n",
    "\n",
    "2. The main effect of tension.  Setting wool and the interaction aside, the p-value for the effect of tension on breaks is 0.0007, which is below an alpha of 0.05.  Tension is a significant predictor of breaks, on its own.\n",
    "\n",
    "3. The interaction effect.  Setting aside the main effects, the interaction of wool and breaks is significant with a p-value of 0.02.  This means that while wool may not be significant on its own, the way that wool type interacts with tension significantly influences breaks.\n",
    "\n",
    "Again - we just know that at least one mean is significantly different from the others - and not which specific pairs are different."
   ]
  },
  {
   "cell_type": "markdown",
   "metadata": {},
   "source": [
    " [Return to Top](#top)\n",
    "<a id = \"assump\"></a>\n",
    "\n",
    "## Assumptions\n",
    "As with any statistical test, we have a number of assumptions that we have to fulfill in order for the test to be fully valid.  Let's review the ANOVA assumptions.\n",
    "\n",
    "<a id = \"baseassump\"></a>\n",
    "The basic ones we don't need to test:\n",
    "1. Dependent variable is numeric - **breaks is numeric, so we're good here!**\n",
    "2. Group sample sizes are approximately equal - **in this case they're all exactly the same size**\n",
    "3. Independence of observations - **each loom is randomly assigned to wool/tension combos**\n",
    "4. No extreme outliers - **we can review the boxplot - nothing seems too extreme**\n",
    "\n",
    "<a id = \"homovar\"></a>\n",
    "Pre-check item:\n",
    "5. Homogeneity of variance - the within group variance for each of the groups should be equal.  This is the same assumption we had for our t-test, but in that case we only had two groups, now we have more.  **We need to test this using Levene's Test.  This is typically reviewed PRIOR to conducting your ANOVA analysis.**\n",
    "\n",
    "Because we have two categorical predictors, we have to run Levene's Test on both."
   ]
  },
  {
   "cell_type": "code",
   "execution_count": null,
   "metadata": {},
   "outputs": [],
   "source": [
    "#LeveneTest(DV ~ IV, data = your data frame)\n",
    "\n",
    "LeveneTest(breaks ~ tension, data = warpbreaks)\n",
    "LeveneTest(breaks ~ wool, data = warpbreaks)"
   ]
  },
  {
   "cell_type": "markdown",
   "metadata": {},
   "source": [
    "For both variables our p-value is greater than alpha, so we can conclude that there is no significant difference in the within group variances in both wool and tension.\n",
    "\n",
    "**IMPORTANT**: This is a test of variance, but this is **NOT** the ANOVA test.  This just tests the assumption of homogeneity of variances.  We cannot use these results to make inference about our means.\n",
    "\n",
    "<a id = \"resid\"></a>\n",
    "\n",
    "So, we have one final assumption:\n",
    "\n",
    "6. Normality of _**residuals**_\n",
    "\n",
    "Here we don't care about the normality of our observations (breaks) we care about the normality of the residuals (the difference between each observation of breaks and the group mean for that observation).  These residuals should be normally distributed.  Because the residuals are calculated as a result of conducting the analysis, we cannot check this assumption until after we conduct our ANOVA test.  So this is considered a \"post-hoc\" check of assumptions.\n",
    "\n",
    "**We check this via a QQ plot of the _residuals_ from our data.**\n",
    "\n",
    "Now are residuals are whatever's left over after we remove the variance due to each main effect and the interaction effect."
   ]
  },
  {
   "cell_type": "code",
   "execution_count": null,
   "metadata": {},
   "outputs": [],
   "source": [
    "## we can get the residuals from an aov object (the results of running aov)\n",
    "twoway_aov <- aov(breaks ~ tension*wool, data = warpbreaks)\n",
    "resid_df <- data.frame(resid = twoway_aov$residuals) ## the residuals part of the aov results using $residuals\n",
    "\n",
    "resid_df %>% ggplot(aes(sample = resid)) +\n",
    "  geom_qq_line(color = \"red\", size = 1) +\n",
    "  geom_qq(color = \"black\") +\n",
    "  labs(title = \"QQ Plot of Residuals\")"
   ]
  },
  {
   "cell_type": "markdown",
   "metadata": {},
   "source": [
    "Our residuals seem to be almost perfectly normal!\n",
    "\n",
    "[Return to Top](#top)\n",
    "<a id = \"posthoc\"></a>\n",
    "\n",
    "## Post-hoc Pairwise Comparisons\n",
    "We can still do pairwise comparisons.  We'll test pairwise differences for each grouping in our model - one set for the main effect of wool, one set for the main effect of tension, and one final set for the pairs of each interaction (it gets a bit confusing).\n",
    "\n",
    "<a id = \"tukey\"></a>\n",
    "### Tukey's Honest Significant Difference (HSD)\n",
    "Like before, we just need to run TukeyHSD on our aov object."
   ]
  },
  {
   "cell_type": "code",
   "execution_count": null,
   "metadata": {},
   "outputs": [],
   "source": [
    "#use the TukeyHSD function and pass it your saved aov object.\n",
    "\n",
    "TukeyHSD(twoway_aov) #aov object created in section QQ plot section"
   ]
  },
  {
   "cell_type": "markdown",
   "metadata": {},
   "source": [
    "Lot's of stuff going on here!!!\n",
    "\n",
    "TENSION: The pairwise differences for tension are what we saw before in the one way ANOVA.  Low tension is significantly different from both medium and large, but medium and large are not significantly different from each other.\n",
    "\n",
    "WOOL: For wool, there are only two levels, so only 1 pairwise comparison.  We still need to use the adjustment for multiple comparisons because overall we are still doing many t-tests on the same data.  We get the same p-value we got for the F-test in the ANOVA table.\n",
    "\n",
    "INTERACTION: Each tension:wool pair is compared to each other tension:wool pair - which gives us 15 pairwise comparisons!  Remember we have 6 tension:wool pairs (L:A, L:B, M:A, M:B, H:A, H:B).  Most are not significant, 5 are significant:\n",
    "\n",
    "- M vs. L tension inside Wool A\n",
    "- H vs. L tension inside Wool A\n",
    "- Wool A vs. Wool B inside L tension\n",
    "- Wool A vs. Wool B inside M tension\n",
    "- Wool B at H tension vs. Wool A at L tension\n",
    "\n",
    "Let's look at our plot of interactions again:"
   ]
  },
  {
   "cell_type": "code",
   "execution_count": null,
   "metadata": {},
   "outputs": [],
   "source": [
    "grid.arrange(int1, int2, ncol = 2)"
   ]
  },
  {
   "cell_type": "markdown",
   "metadata": {},
   "source": [
    "[Return to Top](#top)\n",
    "<a id = \"effect\"></a>\n",
    "\n",
    "## Effect Size\n",
    "A statistical analysis is not complete without addressing the substantive significance of a result.  Just because we find that our analysis is statistical significant doesn't mean that it is large enough to matter. For ANOVA and throughout the end of the semester we will be focusing on measures of effect size that tell us the strength of our IV in predicting our DV.  In other words, how much of the variance in our outcome is explained by our predictor variable(s).\n",
    "\n",
    "In the case of ANOVA - how much of the variance in the numerical variable is explained by group/level of the categorical variable(s) and interactions OVERALL.  Is the main source of variation in the scores due to the different group means, or due to individual variations in scores (residuals)?\n",
    "\n",
    "<a id = \"rsq\"></a>\n",
    "### R-squared\n",
    "Our effect size for ANOVA is the same r-squared statistic we looked at in two-sample t-tests.  The interpretation is the same, the formula for calculating it is different.  In the ANOVA situation r-squared is sometimes referred to as eta-squared, but it is the same thing.\n",
    "\n",
    "We have two different main effects, and an interaction effect, so I'm going to use a shortcut to get the r-squared of the overall ANOVA analysis by running it as a linear model instead."
   ]
  },
  {
   "cell_type": "code",
   "execution_count": null,
   "metadata": {},
   "outputs": [],
   "source": [
    "# calculate r-squared\n",
    "wb_lm <- lm(breaks ~ wool * tension, data = warpbreaks)\n",
    "rsq <- summary(wb_lm)$r.squared \n",
    "rsq # proportion\n",
    "percent(rsq, accuracy = .01) # percentage"
   ]
  },
  {
   "cell_type": "markdown",
   "metadata": {},
   "source": [
    "So the r-squared for the warpbreaks data shows that 38% of the variance in breaks can be explained by our model (the combination of the main effects of wool and tension, plus the interaction between wool and tension). \n",
    "\n",
    "This is a sizeable amount of variance explained (medium-ish, IMHO), and larger than the variance explained by just tension in the one-way model (22%)\n",
    "\n",
    "However, if we want to know the effect of each of our predictors separately we can look at something called partial eta squared."
   ]
  },
  {
   "cell_type": "code",
   "execution_count": null,
   "metadata": {},
   "outputs": [],
   "source": [
    "eta2 <- EtaSq(twoway_aov) ## give eta-squared the saved anova output\n",
    "eta2 # print the entire eta-squared output"
   ]
  },
  {
   "cell_type": "markdown",
   "metadata": {},
   "source": [
    "Here we see the component parts of the variance explained by each IV.  The first column, labeled eta.sq, portions out the portion of the IV over the total variance.  The partial eta-squared (eta.sq.part) is the SS of that IV over the SS of that IV plus just the SS of the residuals.  \n",
    "\n",
    "# $eta.sq_{wool} = \\frac{SS_{wool}}{SS_{total}}$   &nbsp;&nbsp;&nbsp;   but   &nbsp;&nbsp;  &nbsp; $eta.sq.part_{wool} = \\frac{SS_{wool}}{SS_{wool} + SS_{resid}}$\n",
    "\n",
    "This is the effect of the variable in isolation of the other predictors.  This value is not necessarily useful in a situation with a single analysis, but is useful in comparing the effect of a certain predictor across experiments where there are different IVs included in each.\n",
    "\n",
    "[Return to Top](#top)\n",
    "<a id = \"cohen\"></a>\n",
    "\n",
    "### Cohen's $f$\n",
    "The other effect size statistic we will use is Cohen's $f$.  Cohen's $f$ is primarily needed because it is the effect size used in power calculations.  R-squared is preferred for \"interpretation\" purposes.  Cohen's $f$ is calculated using the r-squared value.\n",
    "\n",
    "## $f = \\sqrt{\\frac{r^2}{1 - r^2}}$"
   ]
  },
  {
   "cell_type": "code",
   "execution_count": null,
   "metadata": {},
   "outputs": [],
   "source": [
    "## calculate cohen's f using saved value of rsq\n",
    "cohenf <- sqrt(rsq / (1-rsq))\n",
    "cohenf"
   ]
  },
  {
   "cell_type": "markdown",
   "metadata": {},
   "source": [
    "Cohen's f can be interpreted similarly to Cohen's d, but as a standardized average effect size across all the levels of the categorical variable.  But we will use r-squared moving forward in the class, so become familiar with it now.  It also has a more straightforward interpretation once you can wrap your head around the understanding of \"proportion of variance explained.\"\n",
    "\n",
    "But, Cohen's f will be needed for the power calculation.  You cannot use r-squared in the power function (which you will see in lab)."
   ]
  },
  {
   "cell_type": "code",
   "execution_count": null,
   "metadata": {},
   "outputs": [],
   "source": []
  }
 ],
 "metadata": {
  "kernelspec": {
   "display_name": "R",
   "language": "R",
   "name": "ir"
  },
  "language_info": {
   "codemirror_mode": "r",
   "file_extension": ".r",
   "mimetype": "text/x-r-source",
   "name": "R",
   "pygments_lexer": "r",
   "version": "3.6.1"
  }
 },
 "nbformat": 4,
 "nbformat_minor": 2
}
