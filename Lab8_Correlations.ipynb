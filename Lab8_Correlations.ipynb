{
 "cells": [
  {
   "cell_type": "markdown",
   "metadata": {},
   "source": [
    "# Correlations\n",
    "\n",
    "We're now going to look at the relationships between two __numerical__ variables.  This will allow us to make this final leap from ANOVA to linear regression.  \n",
    "\n",
    "Correlations are a numerical representation of the strength of the relationship between two numerical variables - and in a way reflects the influence that the variables have on each other - **HOWEVER** correlation is not directional and correlation does not imply causation.\n",
    "\n",
    "The bivariate (relationship between __two__ variables) correlation tells us:\n",
    "- If the association exists\n",
    "- The strength of the association\n",
    "- The direction of the association\n",
    "\n",
    "In this lab you'll see one full example of an analysis of the relationship between two numerical variables from the Cards Against Humanity poll that we've used in previous labs - income and self-rated attractiveness.  Do people with more money think they're more attractive?\n",
    "\n"
   ]
  },
  {
   "cell_type": "code",
   "execution_count": null,
   "metadata": {},
   "outputs": [],
   "source": [
    "## loading some libraries!\n",
    "library(tidyverse) ## all of our normal functions for working with data\n",
    "\n",
    "options(repr.plot.width=7, repr.plot.height=6) ## set options for plot size within the notebook -\n",
    "# this is only for jupyter notebooks, you can disregard this."
   ]
  },
  {
   "cell_type": "code",
   "execution_count": null,
   "metadata": {},
   "outputs": [],
   "source": [
    "## LOAD the DATA\n",
    "cah <- read_csv(\"201806-CAH_PulseOfTheNation_Raw.csv\")\n",
    "## variable names currently full questions - need to rename\n",
    "new_names <- c(\"gender\", \"age\", \"agerange\", \"race\", \"income\", \"educ\", \"partyid\", \"polaffil\", \n",
    "               \"trump\", \"hollymoney\", \"fed_min_is\", \"fed_min_should\", \"fed_tax_is\", \"fed_tax_should\", \n",
    "               \"redist\", \"redist_you\", \"redist_people\", \"baseincome\", \"faircomp\", \"ceofair\", \"attractive\")\n",
    "colnames(cah) <- new_names\n",
    "glimpse(cah)"
   ]
  },
  {
   "cell_type": "markdown",
   "metadata": {},
   "source": [
    "## Example: Correlation between Income and Self-rated Attractiveness\n",
    "We're going to see if there's a correlation between a person's income and how they rate their own attractiveness.  \n",
    "\n",
    "We'll first do some data cleaning, then proceed."
   ]
  },
  {
   "cell_type": "code",
   "execution_count": null,
   "metadata": {},
   "outputs": [],
   "source": [
    "# data cleaning\n",
    "cah %<>% drop_na(income) %>% filter(income < 200000 & attractive != \"DK/REF\") %>% \n",
    "                mutate(attractive = replace(attractive, attractive == \"Not attractive at all\", \"1\")) %>% \n",
    "                mutate(attractive = replace(attractive, attractive == \"Very attractive\", \"10\")) %>% \n",
    "                mutate(attractive = as.numeric(attractive))\n",
    "summary(cah$income)\n",
    "summary(cah$attractive)"
   ]
  },
  {
   "cell_type": "markdown",
   "metadata": {},
   "source": [
    "The first thing we'll do is create a scatterplot of income and self-rated attractiveness.  Remember, since a correlation doesn't have direction, it doesn't matter which variable you make the x variable and which variable you make the y variable.  We will also include a best fit line."
   ]
  },
  {
   "cell_type": "code",
   "execution_count": null,
   "metadata": {},
   "outputs": [],
   "source": [
    "cah %>% ggplot(aes(x = income/1000, y = attractive)) + #divide income by 1000 to make axis labels easier to read\n",
    "            geom_point() + \n",
    "            geom_smooth(method = \"lm\") +\n",
    "            labs(x = \"Income in $1000s\",\n",
    "                 y = \"Self-rated attractiveness\",\n",
    "                 title = \"Correlation between income and self-rated attractiveness\")"
   ]
  },
  {
   "cell_type": "markdown",
   "metadata": {},
   "source": [
    "What does this plot include?\n",
    "1. Dots that represent each obervation.\n",
    "2. A best fit line that indicates the general trend of the relationship between income and self-rated attractiveness.\n",
    "3. A confidence interval around the best fit line.  This represents the uncertainity in our sample in inferring to the population (standard error).\n",
    "\n",
    "What do we see specifically about our variables?\n",
    "1. Attractiveness is more ordinal than continuous, so we have all of our observations on the integer levels of the y-axis.  There is a lot of spread in the observations between attractiveness and income.\n",
    "2. The spread in the values shows there's not a strong linear relationship, however the observations at the highest end of income do not have any very low ratings of attractiveness.  The best fit line is not completely horizontal, indicating that there may be some small correlation between the variables.\n",
    "3. The CI for the best fit line indicates that the correlation could range from completely non-existent (horizontal line) to larger than the current best fit line (steeper slope)."
   ]
  },
  {
   "cell_type": "markdown",
   "metadata": {},
   "source": [
    "## Assumptions\n",
    "The assumptions are pretty basic, you need two variables, both numeric.  \n",
    "\n",
    "**These variables are numeric, although self-rated attractivenss is more ordinal than continuous.**\n",
    "\n",
    "_IF_ you want to do significance testing, they would need to be normally distributed.\n",
    "\n",
    "We can look at QQ plots to see if these variables are normally distributed."
   ]
  },
  {
   "cell_type": "code",
   "execution_count": null,
   "metadata": {},
   "outputs": [],
   "source": [
    "# QQ plot for income\n",
    "cah %>% ggplot(aes(sample = income)) +\n",
    "  geom_qq_line(color = \"red\", size = 1) +\n",
    "  geom_qq(color = \"black\") +\n",
    "  labs(title = \"QQ Plot of Income\")"
   ]
  },
  {
   "cell_type": "markdown",
   "metadata": {},
   "source": [
    "The QQ plot for income shows a moderate deviation from normality, fairly large in the tails.  Because both of the tails are above the 45 degree reference line, this indicates that the data is positive, or right skewed, which we would typically expect from a distribution of income."
   ]
  },
  {
   "cell_type": "code",
   "execution_count": null,
   "metadata": {},
   "outputs": [],
   "source": [
    "# QQ plot for attractive\n",
    "cah %>% ggplot(aes(sample = attractive)) +\n",
    "  geom_qq_line(color = \"red\", size = 1) +\n",
    "  geom_qq(color = \"black\") +\n",
    "  labs(title = \"QQ Plot of Self-rated Attractiveness\")"
   ]
  },
  {
   "cell_type": "markdown",
   "metadata": {},
   "source": [
    "This QQ plot is harder to interpret, because attractiveness is relatively ordinal and can only take integer values.  However, there is indication that the distribution follows a relatively normal pattern, despite the fact that all of the observations sit on the line for the integer values on the y-axis.\n",
    "\n",
    "## Correlation Coefficient\n",
    "The next step is calculating the correlation coefficient, which is pretty simple and involves one line of code."
   ]
  },
  {
   "cell_type": "code",
   "execution_count": null,
   "metadata": {},
   "outputs": [],
   "source": [
    "# cor(firstvar, secondvar)\n",
    "# the order of the vars does not matter\n",
    "cor(cah$income, cah$attractive)"
   ]
  },
  {
   "cell_type": "markdown",
   "metadata": {},
   "source": [
    "Our correlation coefficient tells us 3 things:\n",
    "\n",
    "1. Is there a correlation?\n",
    "\n",
    "Well, this number is not zero, but it's not large either, so significance testing will be required.\n",
    "\n",
    "2. What is the magnitude of the correlation?\n",
    "\n",
    "A correlation coefficient of 0.09 indicates a very, very small, potentially nonexistent relationship between the variables.\n",
    "\n",
    "3. What is the direction of the correlation?\n",
    "\n",
    "Because the sign of the coefficient is positive, the correlation is positive.  This corresponds to the positive slope we saw on the best fit line in the scatterplot above.\n",
    "\n",
    "## Significance Testing?\n",
    "Correlation coefficients by themselves are interpretable as the size of the relationship between two variables. However, there is also a significance test we can conduct on a correlation which will generate a t-score we can compare to the t-distribution to obtain a p-value.\n",
    "\n",
    "The hypotheses for this type of test is pretty basic - is the correlation coefficient significantly different from 0?  This tells us nothing about the relative strength, only if a significant effect exists (or not).\n",
    "\n",
    "In the case of our very, very small correlation coefficient (r = 0.09), a significance test is required to determine if the correlation is even statistically different from zero.\n",
    "\n",
    "#### Non-directional (two-tailed):\n",
    "$H_0: r = 0$ <BR>\n",
    "$H_A: r \\neq 0$ <BR>\n",
    "    \n",
    "For this, we use a related function, `cor.test()`"
   ]
  },
  {
   "cell_type": "code",
   "execution_count": null,
   "metadata": {},
   "outputs": [],
   "source": [
    "## cor.test(firstvar, secondvar)\n",
    "cor.test(cah$income, cah$attractive)"
   ]
  },
  {
   "cell_type": "markdown",
   "metadata": {},
   "source": [
    "Let's review this output.\n",
    "\n",
    "The first line tells us about our t-test that tests if our correlation is significantly different from zero.  With a p-value of 0.08, we can conclude that the correlation is not significantly different from zero (at alpha = 0.05). \n",
    "\n",
    "This conclusion is supported via the 95% confidence interval, which crosses 0.  Because this interval crosses zero, 0 (or no correlation) is a potential relationship between these two variables in our population.\n",
    "\n",
    "The final line displays the correlation that we've already seen above in the output of `cor()`.\n",
    "\n",
    "## R-squared\n",
    "Remember, our value of the proportion of variance explained is literally this correlation coefficient, $r$, squared - $r^2$.  \n",
    "\n",
    "We can calculate r-squared by simply squaring the correlation coefficient.  The result is the coefficient of determination, our r-squared value."
   ]
  },
  {
   "cell_type": "code",
   "execution_count": null,
   "metadata": {},
   "outputs": [],
   "source": [
    "rsq <- cor(cah$income, cah$attractive)^2 ## calculate the correlation, and square it - ^2\n",
    "rsq"
   ]
  },
  {
   "cell_type": "markdown",
   "metadata": {},
   "source": [
    "As can be expected, due to the fact that the correlation was not significantly different than zero, income explains 0% of the variance in attractiveness (or we can interpret it as attractiveness explaining 0% of the variance in income).\n",
    "\n",
    "## Correlation Matrix\n",
    "\n",
    "Another useful thing we can do is create a correlation matrix.  This gives us correlation coefficients for every pairing of numerical variables in the dataset."
   ]
  },
  {
   "cell_type": "code",
   "execution_count": null,
   "metadata": {},
   "outputs": [],
   "source": [
    "cah2 <- cah %>% drop_na()\n",
    "\n",
    "cor(select_if(cah2, is.numeric))"
   ]
  },
  {
   "cell_type": "markdown",
   "metadata": {},
   "source": [
    "The correlations along the diagonal represent the correlation of each variable with itself, and is therefore one.\n",
    "\n",
    "It looks like the strongest correlations are between fed_tax_should and fed_tax_is (0.999) and fed_min_should and either fed_tax_is or fed_tax_should (0.768).\n",
    "\n",
    "Remember - the magnitude of the correlation is what is important.  A correlation of -0.17 is stronger than a correlation of 0.14, it's just a negative correlation."
   ]
  },
  {
   "cell_type": "markdown",
   "metadata": {},
   "source": [
    "## Exercise \n",
    "Pick two variables with a weak, but somewhat small correlation (around 0.1 to 0.2).\n",
    "\n",
    "1. Plot a scatterplot of the relationship between these two variables, including a best fit line.\n",
    "2. Test the correlation to determine if it's statistically different from 0."
   ]
  },
  {
   "cell_type": "code",
   "execution_count": null,
   "metadata": {},
   "outputs": [],
   "source": []
  }
 ],
 "metadata": {
  "kernelspec": {
   "display_name": "R",
   "language": "R",
   "name": "ir"
  },
  "language_info": {
   "codemirror_mode": "r",
   "file_extension": ".r",
   "mimetype": "text/x-r-source",
   "name": "R",
   "pygments_lexer": "r",
   "version": "3.6.1"
  }
 },
 "nbformat": 4,
 "nbformat_minor": 2
}
