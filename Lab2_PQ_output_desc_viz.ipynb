{
 "cells": [
  {
   "cell_type": "markdown",
   "metadata": {},
   "source": [
    "# Lab 2: Creating Publication Quality (PQ) Output\n",
    "In this lab we will will build on our previous lab in which we looked at descriptive statistics and visualizations looking specifically at how to generate or convert these tables and graphs into PQ output.  For your projects this semester all charts and graphs and tables will need to be PQ.  \n",
    "\n",
    "- [Descriptive Statistics](#desc)\n",
    "    - [Frequency Tables - Categorical Variables](#freq)\n",
    "        - [One-way Table](#freq)\n",
    "        - [Two-way Table](#twoway)\n",
    "    - [Summary Statistics - Numerical Variables](#numsum)\n",
    "- [Vizualizations - ggplot2](#viz)"
   ]
  },
  {
   "cell_type": "code",
   "execution_count": 63,
   "metadata": {},
   "outputs": [],
   "source": [
    "#load packages\n",
    "library(tidyverse) # includes ggplot2\n",
    "library(magrittr) # so I can use the assignment pipe  %<>% \n",
    "library(ggpubr) # containes line/dot plot for visualizing means\n",
    "\n",
    "#install.packages(\"flextable\") \n",
    "library(flextable) ## generates PQ frequency/summary tables in .doc or picture format\n",
    "\n",
    "library(desc)\n",
    "## installations required to save flextables and ggplot2 objects as imgs\n",
    "#install.packages(\"webshot\")\n",
    "#webshot::install_phantomjs()\n"
   ]
  },
  {
   "cell_type": "markdown",
   "metadata": {},
   "source": [
    "In this lab I'm going to again use polling data collected by the creators of the card came Cards Against Humanity - https://thepulseofthenation.com/#the-poll.  There are a mix of serious and silly questions. This particular poll is from September 2017.\n",
    "\n",
    "See Lab 2 for data cleaning steps.  I've saved that cleaned df as an .rds file that I'm going to directly load here."
   ]
  },
  {
   "cell_type": "code",
   "execution_count": 67,
   "metadata": {},
   "outputs": [
    {
     "name": "stdout",
     "output_type": "stream",
     "text": [
      "Observations: 998\n",
      "Variables: 21\n",
      "$ income       \u001b[3m\u001b[90m<dbl>\u001b[39m\u001b[23m 8000, 68000, 46000, 51000, 100000, 54000, 83000, 11400...\n",
      "$ gender       \u001b[3m\u001b[90m<fct>\u001b[39m\u001b[23m Female, Female, Male, Male, Female, Female, Male, Fema...\n",
      "$ age          \u001b[3m\u001b[90m<dbl>\u001b[39m\u001b[23m 64, 56, 63, 48, 32, 64, 61, 64, 64, 68, 63, 44, 57, 62...\n",
      "$ age_cat      \u001b[3m\u001b[90m<fct>\u001b[39m\u001b[23m 55-64, 55-64, 55-64, 45-54, 25-34, 55-64, 55-64, 55-64...\n",
      "$ polaffil     \u001b[3m\u001b[90m<fct>\u001b[39m\u001b[23m Democrat, Democrat, Independent, Republican, Democrat,...\n",
      "$ apptrump     \u001b[3m\u001b[90m<fct>\u001b[39m\u001b[23m Strongly disapprove, Strongly disapprove, Somewhat App...\n",
      "$ educ         \u001b[3m\u001b[90m<fct>\u001b[39m\u001b[23m College degree, High school, Some college, High school...\n",
      "$ race         \u001b[3m\u001b[90m<fct>\u001b[39m\u001b[23m White, Black, White, White, White, White, White, White...\n",
      "$ marital      \u001b[3m\u001b[90m<fct>\u001b[39m\u001b[23m Divorced, Single, Married, Divorced, Married, Married,...\n",
      "$ robots       \u001b[3m\u001b[90m<fct>\u001b[39m\u001b[23m Unlikely, Unlikely, Unlikely, Unlikely, Unlikely, DK/R...\n",
      "$ climate      \u001b[3m\u001b[90m<fct>\u001b[39m\u001b[23m Real and Caused by People, DK/REF, Real but not Caused...\n",
      "$ transformers \u001b[3m\u001b[90m<dbl>\u001b[39m\u001b[23m 1, 0, 0, 0, 1, 0, 0, 2, 0, 0, 0, 1, 0, 0, 1, 1, 5, 1, ...\n",
      "$ sci_good     \u001b[3m\u001b[90m<fct>\u001b[39m\u001b[23m Strongly Agree, Somewhat Agree, Somewhat Agree, Somewh...\n",
      "$ vaccines     \u001b[3m\u001b[90m<fct>\u001b[39m\u001b[23m Somewhat Disagree, Somewhat Disagree, Strongly Agree, ...\n",
      "$ books        \u001b[3m\u001b[90m<dbl>\u001b[39m\u001b[23m 20, 6, 0, 1, 30, 15, 0, 40, 0, 1, 0, 2, 12, 6, 6, 24, ...\n",
      "$ ghosts       \u001b[3m\u001b[90m<fct>\u001b[39m\u001b[23m Yes, No, No, No, Yes, No, Yes, No, No, No, No, Yes, Ye...\n",
      "$ fedbudget    \u001b[3m\u001b[90m<dbl>\u001b[39m\u001b[23m 10, 90, 20, 10, 10, 1, 10, 10, 90, 30, 8, 75, 2, 80, 5...\n",
      "$ fedfundsci   \u001b[3m\u001b[90m<fct>\u001b[39m\u001b[23m Too Low, Too High, About Right, About Right, Too Low, ...\n",
      "$ earthsun     \u001b[3m\u001b[90m<fct>\u001b[39m\u001b[23m FALSE, FALSE, TRUE, FALSE, FALSE, TRUE, TRUE, TRUE, TR...\n",
      "$ smartdumb    \u001b[3m\u001b[90m<fct>\u001b[39m\u001b[23m Smart and Sad, Smart and Sad, Dumb and happy, Dumb and...\n",
      "$ urinate      \u001b[3m\u001b[90m<fct>\u001b[39m\u001b[23m Unacceptable, Unacceptable, Acceptable, Unacceptable, ...\n"
     ]
    },
    {
     "data": {
      "text/html": [
       "<table>\n",
       "<caption>A tibble: 6 × 21</caption>\n",
       "<thead>\n",
       "\t<tr><th scope=col>income</th><th scope=col>gender</th><th scope=col>age</th><th scope=col>age_cat</th><th scope=col>polaffil</th><th scope=col>apptrump</th><th scope=col>educ</th><th scope=col>race</th><th scope=col>marital</th><th scope=col>robots</th><th scope=col>...</th><th scope=col>transformers</th><th scope=col>sci_good</th><th scope=col>vaccines</th><th scope=col>books</th><th scope=col>ghosts</th><th scope=col>fedbudget</th><th scope=col>fedfundsci</th><th scope=col>earthsun</th><th scope=col>smartdumb</th><th scope=col>urinate</th></tr>\n",
       "\t<tr><th scope=col>&lt;dbl&gt;</th><th scope=col>&lt;fct&gt;</th><th scope=col>&lt;dbl&gt;</th><th scope=col>&lt;fct&gt;</th><th scope=col>&lt;fct&gt;</th><th scope=col>&lt;fct&gt;</th><th scope=col>&lt;fct&gt;</th><th scope=col>&lt;fct&gt;</th><th scope=col>&lt;fct&gt;</th><th scope=col>&lt;fct&gt;</th><th scope=col>...</th><th scope=col>&lt;dbl&gt;</th><th scope=col>&lt;fct&gt;</th><th scope=col>&lt;fct&gt;</th><th scope=col>&lt;dbl&gt;</th><th scope=col>&lt;fct&gt;</th><th scope=col>&lt;dbl&gt;</th><th scope=col>&lt;fct&gt;</th><th scope=col>&lt;fct&gt;</th><th scope=col>&lt;fct&gt;</th><th scope=col>&lt;fct&gt;</th></tr>\n",
       "</thead>\n",
       "<tbody>\n",
       "\t<tr><td>  8000</td><td>Female</td><td>64</td><td>55-64</td><td>Democrat   </td><td>Strongly disapprove</td><td>College degree</td><td>White</td><td>Divorced</td><td>Unlikely</td><td>...</td><td>1</td><td>Strongly Agree   </td><td>Somewhat Disagree</td><td>20</td><td>Yes</td><td>10</td><td>Too Low    </td><td>FALSE</td><td>Smart and Sad </td><td>Unacceptable</td></tr>\n",
       "\t<tr><td> 68000</td><td>Female</td><td>56</td><td>55-64</td><td>Democrat   </td><td>Strongly disapprove</td><td>High school   </td><td>Black</td><td>Single  </td><td>Unlikely</td><td>...</td><td>0</td><td>Somewhat Agree   </td><td>Somewhat Disagree</td><td> 6</td><td>No </td><td>90</td><td>Too High   </td><td>FALSE</td><td>Smart and Sad </td><td>Unacceptable</td></tr>\n",
       "\t<tr><td> 46000</td><td>Male  </td><td>63</td><td>55-64</td><td>Independent</td><td>Somewhat Approve   </td><td>Some college  </td><td>White</td><td>Married </td><td>Unlikely</td><td>...</td><td>0</td><td>Somewhat Agree   </td><td>Strongly Agree   </td><td> 0</td><td>No </td><td>20</td><td>About Right</td><td>TRUE </td><td>Dumb and happy</td><td>Acceptable  </td></tr>\n",
       "\t<tr><td> 51000</td><td>Male  </td><td>48</td><td>45-54</td><td>Republican </td><td>Strongly Approve   </td><td>High school   </td><td>White</td><td>Divorced</td><td>Unlikely</td><td>...</td><td>0</td><td>Somewhat Disagree</td><td>Somewhat Disagree</td><td> 1</td><td>No </td><td>10</td><td>About Right</td><td>FALSE</td><td>Dumb and happy</td><td>Unacceptable</td></tr>\n",
       "\t<tr><td>100000</td><td>Female</td><td>32</td><td>25-34</td><td>Democrat   </td><td>Somewhat Approve   </td><td>Some college  </td><td>White</td><td>Married </td><td>Unlikely</td><td>...</td><td>1</td><td>Strongly Agree   </td><td>Strongly Agree   </td><td>30</td><td>Yes</td><td>10</td><td>Too Low    </td><td>FALSE</td><td>Smart and Sad </td><td>Acceptable  </td></tr>\n",
       "\t<tr><td> 54000</td><td>Female</td><td>64</td><td>55-64</td><td>Democrat   </td><td>Strongly disapprove</td><td>Some college  </td><td>White</td><td>Married </td><td>DK/REF  </td><td>...</td><td>0</td><td>Strongly Agree   </td><td>Strongly Agree   </td><td>15</td><td>No </td><td> 1</td><td>Too Low    </td><td>TRUE </td><td>Smart and Sad </td><td>Unacceptable</td></tr>\n",
       "</tbody>\n",
       "</table>\n"
      ],
      "text/latex": [
       "A tibble: 6 × 21\n",
       "\\begin{tabular}{lllllllllllllllllllll}\n",
       " income & gender & age & age\\_cat & polaffil & apptrump & educ & race & marital & robots & ... & transformers & sci\\_good & vaccines & books & ghosts & fedbudget & fedfundsci & earthsun & smartdumb & urinate\\\\\n",
       " <dbl> & <fct> & <dbl> & <fct> & <fct> & <fct> & <fct> & <fct> & <fct> & <fct> & ... & <dbl> & <fct> & <fct> & <dbl> & <fct> & <dbl> & <fct> & <fct> & <fct> & <fct>\\\\\n",
       "\\hline\n",
       "\t   8000 & Female & 64 & 55-64 & Democrat    & Strongly disapprove & College degree & White & Divorced & Unlikely & ... & 1 & Strongly Agree    & Somewhat Disagree & 20 & Yes & 10 & Too Low     & FALSE & Smart and Sad  & Unacceptable\\\\\n",
       "\t  68000 & Female & 56 & 55-64 & Democrat    & Strongly disapprove & High school    & Black & Single   & Unlikely & ... & 0 & Somewhat Agree    & Somewhat Disagree &  6 & No  & 90 & Too High    & FALSE & Smart and Sad  & Unacceptable\\\\\n",
       "\t  46000 & Male   & 63 & 55-64 & Independent & Somewhat Approve    & Some college   & White & Married  & Unlikely & ... & 0 & Somewhat Agree    & Strongly Agree    &  0 & No  & 20 & About Right & TRUE  & Dumb and happy & Acceptable  \\\\\n",
       "\t  51000 & Male   & 48 & 45-54 & Republican  & Strongly Approve    & High school    & White & Divorced & Unlikely & ... & 0 & Somewhat Disagree & Somewhat Disagree &  1 & No  & 10 & About Right & FALSE & Dumb and happy & Unacceptable\\\\\n",
       "\t 100000 & Female & 32 & 25-34 & Democrat    & Somewhat Approve    & Some college   & White & Married  & Unlikely & ... & 1 & Strongly Agree    & Strongly Agree    & 30 & Yes & 10 & Too Low     & FALSE & Smart and Sad  & Acceptable  \\\\\n",
       "\t  54000 & Female & 64 & 55-64 & Democrat    & Strongly disapprove & Some college   & White & Married  & DK/REF   & ... & 0 & Strongly Agree    & Strongly Agree    & 15 & No  &  1 & Too Low     & TRUE  & Smart and Sad  & Unacceptable\\\\\n",
       "\\end{tabular}\n"
      ],
      "text/markdown": [
       "\n",
       "A tibble: 6 × 21\n",
       "\n",
       "| income &lt;dbl&gt; | gender &lt;fct&gt; | age &lt;dbl&gt; | age_cat &lt;fct&gt; | polaffil &lt;fct&gt; | apptrump &lt;fct&gt; | educ &lt;fct&gt; | race &lt;fct&gt; | marital &lt;fct&gt; | robots &lt;fct&gt; | ... ... | transformers &lt;dbl&gt; | sci_good &lt;fct&gt; | vaccines &lt;fct&gt; | books &lt;dbl&gt; | ghosts &lt;fct&gt; | fedbudget &lt;dbl&gt; | fedfundsci &lt;fct&gt; | earthsun &lt;fct&gt; | smartdumb &lt;fct&gt; | urinate &lt;fct&gt; |\n",
       "|---|---|---|---|---|---|---|---|---|---|---|---|---|---|---|---|---|---|---|---|---|\n",
       "|   8000 | Female | 64 | 55-64 | Democrat    | Strongly disapprove | College degree | White | Divorced | Unlikely | ... | 1 | Strongly Agree    | Somewhat Disagree | 20 | Yes | 10 | Too Low     | FALSE | Smart and Sad  | Unacceptable |\n",
       "|  68000 | Female | 56 | 55-64 | Democrat    | Strongly disapprove | High school    | Black | Single   | Unlikely | ... | 0 | Somewhat Agree    | Somewhat Disagree |  6 | No  | 90 | Too High    | FALSE | Smart and Sad  | Unacceptable |\n",
       "|  46000 | Male   | 63 | 55-64 | Independent | Somewhat Approve    | Some college   | White | Married  | Unlikely | ... | 0 | Somewhat Agree    | Strongly Agree    |  0 | No  | 20 | About Right | TRUE  | Dumb and happy | Acceptable   |\n",
       "|  51000 | Male   | 48 | 45-54 | Republican  | Strongly Approve    | High school    | White | Divorced | Unlikely | ... | 0 | Somewhat Disagree | Somewhat Disagree |  1 | No  | 10 | About Right | FALSE | Dumb and happy | Unacceptable |\n",
       "| 100000 | Female | 32 | 25-34 | Democrat    | Somewhat Approve    | Some college   | White | Married  | Unlikely | ... | 1 | Strongly Agree    | Strongly Agree    | 30 | Yes | 10 | Too Low     | FALSE | Smart and Sad  | Acceptable   |\n",
       "|  54000 | Female | 64 | 55-64 | Democrat    | Strongly disapprove | Some college   | White | Married  | DK/REF   | ... | 0 | Strongly Agree    | Strongly Agree    | 15 | No  |  1 | Too Low     | TRUE  | Smart and Sad  | Unacceptable |\n",
       "\n"
      ],
      "text/plain": [
       "  income gender age age_cat polaffil    apptrump            educ          \n",
       "1   8000 Female 64  55-64   Democrat    Strongly disapprove College degree\n",
       "2  68000 Female 56  55-64   Democrat    Strongly disapprove High school   \n",
       "3  46000 Male   63  55-64   Independent Somewhat Approve    Some college  \n",
       "4  51000 Male   48  45-54   Republican  Strongly Approve    High school   \n",
       "5 100000 Female 32  25-34   Democrat    Somewhat Approve    Some college  \n",
       "6  54000 Female 64  55-64   Democrat    Strongly disapprove Some college  \n",
       "  race  marital  robots   ... transformers sci_good          vaccines         \n",
       "1 White Divorced Unlikely ... 1            Strongly Agree    Somewhat Disagree\n",
       "2 Black Single   Unlikely ... 0            Somewhat Agree    Somewhat Disagree\n",
       "3 White Married  Unlikely ... 0            Somewhat Agree    Strongly Agree   \n",
       "4 White Divorced Unlikely ... 0            Somewhat Disagree Somewhat Disagree\n",
       "5 White Married  Unlikely ... 1            Strongly Agree    Strongly Agree   \n",
       "6 White Married  DK/REF   ... 0            Strongly Agree    Strongly Agree   \n",
       "  books ghosts fedbudget fedfundsci  earthsun smartdumb      urinate     \n",
       "1 20    Yes    10        Too Low     FALSE    Smart and Sad  Unacceptable\n",
       "2  6    No     90        Too High    FALSE    Smart and Sad  Unacceptable\n",
       "3  0    No     20        About Right TRUE     Dumb and happy Acceptable  \n",
       "4  1    No     10        About Right FALSE    Dumb and happy Unacceptable\n",
       "5 30    Yes    10        Too Low     FALSE    Smart and Sad  Acceptable  \n",
       "6 15    No      1        Too Low     TRUE     Smart and Sad  Unacceptable"
      ]
     },
     "metadata": {},
     "output_type": "display_data"
    }
   ],
   "source": [
    "#load data\n",
    "cah_poll <- readRDS('cahpoll9.rds')\n",
    "\n",
    "#inspect df to make sure it's loaded correctly\n",
    "glimpse(cah_poll)\n",
    "head(cah_poll)"
   ]
  },
  {
   "cell_type": "code",
   "execution_count": null,
   "metadata": {},
   "outputs": [],
   "source": [
    "#IQR - interquartile range\n",
    "IQR(cah_poll$income) ## the IQR of income is zero because 25th and 75th percentile are identical\n",
    "print(\"---------------\")\n",
    "IQR(cah_poll$books)"
   ]
  },
  {
   "cell_type": "markdown",
   "metadata": {},
   "source": [
    "<a id=\"desc\"></a>\n",
    "## Descriptive Statistics \n",
    "We'll look at ways to create PQ tables to display basic descriptive statistics of our variables.\n",
    "\n",
    "We'll look at frequency tables for categorical variables (both one-way and two-way).  Two-way frequency tables are often call cross tabs or contingency tables.\n",
    "\n",
    "For numerical variables we'll cover PQ tables that list summary statistics (mean, median, quartiles, min, max, etc.) for your numerical variable(s) of interest.\n",
    "\n",
    "<a id=\"freq\"></a>\n",
    "### Categorical Variables - Frequency Tables\n",
    "We'll start with a one-way basic frequency table.  There are a number of ways we can create this, using count() or table() is most common.\n",
    "\n",
    "#### One-way Frequency Table\n",
    "A one-way table lists the frequencies (counts) of observations for each level of one categorical/factor variable.  We'll create a frequency table of the variable sci_good using group_by() and summarize() from dplyr.  A good PQ table will include both frequencies and percentages."
   ]
  },
  {
   "cell_type": "code",
   "execution_count": 8,
   "metadata": {},
   "outputs": [
    {
     "data": {
      "text/html": [
       "<table>\n",
       "<caption>A tibble: 6 × 3</caption>\n",
       "<thead>\n",
       "\t<tr><th scope=col>sci_good</th><th scope=col>Frequency</th><th scope=col>Percentage</th></tr>\n",
       "\t<tr><th scope=col>&lt;fct&gt;</th><th scope=col>&lt;int&gt;</th><th scope=col>&lt;dbl&gt;</th></tr>\n",
       "</thead>\n",
       "<tbody>\n",
       "\t<tr><td>DK/REF                    </td><td> 60</td><td>0.06012024</td></tr>\n",
       "\t<tr><td>Neither Agree nor Disagree</td><td> 19</td><td>0.01903808</td></tr>\n",
       "\t<tr><td>Somewhat Agree            </td><td>335</td><td>0.33567134</td></tr>\n",
       "\t<tr><td>Somewhat Disagree         </td><td>133</td><td>0.13326653</td></tr>\n",
       "\t<tr><td>Strongly Agree            </td><td>349</td><td>0.34969940</td></tr>\n",
       "\t<tr><td>Strongly Disagree         </td><td>102</td><td>0.10220441</td></tr>\n",
       "</tbody>\n",
       "</table>\n"
      ],
      "text/latex": [
       "A tibble: 6 × 3\n",
       "\\begin{tabular}{lll}\n",
       " sci\\_good & Frequency & Percentage\\\\\n",
       " <fct> & <int> & <dbl>\\\\\n",
       "\\hline\n",
       "\t DK/REF                     &  60 & 0.06012024\\\\\n",
       "\t Neither Agree nor Disagree &  19 & 0.01903808\\\\\n",
       "\t Somewhat Agree             & 335 & 0.33567134\\\\\n",
       "\t Somewhat Disagree          & 133 & 0.13326653\\\\\n",
       "\t Strongly Agree             & 349 & 0.34969940\\\\\n",
       "\t Strongly Disagree          & 102 & 0.10220441\\\\\n",
       "\\end{tabular}\n"
      ],
      "text/markdown": [
       "\n",
       "A tibble: 6 × 3\n",
       "\n",
       "| sci_good &lt;fct&gt; | Frequency &lt;int&gt; | Percentage &lt;dbl&gt; |\n",
       "|---|---|---|\n",
       "| DK/REF                     |  60 | 0.06012024 |\n",
       "| Neither Agree nor Disagree |  19 | 0.01903808 |\n",
       "| Somewhat Agree             | 335 | 0.33567134 |\n",
       "| Somewhat Disagree          | 133 | 0.13326653 |\n",
       "| Strongly Agree             | 349 | 0.34969940 |\n",
       "| Strongly Disagree          | 102 | 0.10220441 |\n",
       "\n"
      ],
      "text/plain": [
       "  sci_good                   Frequency Percentage\n",
       "1 DK/REF                      60       0.06012024\n",
       "2 Neither Agree nor Disagree  19       0.01903808\n",
       "3 Somewhat Agree             335       0.33567134\n",
       "4 Somewhat Disagree          133       0.13326653\n",
       "5 Strongly Agree             349       0.34969940\n",
       "6 Strongly Disagree          102       0.10220441"
      ]
     },
     "metadata": {},
     "output_type": "display_data"
    }
   ],
   "source": [
    "# create table and print to screen to inspect\n",
    "#using syntax:\n",
    "# dfname  %>% group_by(variablename) %>% \n",
    "#             summarize(Frequency = n(),\n",
    "#                       Percentage = n() / dim(df)[1]) ## dim(df)[1] is the overall number of rows in your df\n",
    "\n",
    "cah_poll %>% group_by(sci_good) %>% \n",
    "             summarize(Frequency = n(), ## Note that I'm making my summary vars PQ quality names because these will be the column headings\n",
    "                       Percentage = n() / dim(cah_poll)[1])"
   ]
  },
  {
   "cell_type": "markdown",
   "metadata": {},
   "source": [
    "This looks like it is generating the right output (the counts of observations in each category of sci_good) but to make it PQ I need to reorder my factor levels so that they are in an appropriate order.  In this case I want the values in order for the range of Somewhat Agree to Somewhat Disagree.  If I want to keep DK/REF as a level I need to relabel it with a PQ descriptive name and include it at the end of the table.  \n",
    "\n",
    "Note that your levels must have descriptive names in order to be PQ.  For example, the label \"nhwhite\" for a race variable would not be PQ, it should be listed as \"White, non-hispanic.\" (this is a real race category from US gov't surveys, FYI)\n",
    "\n",
    "I'm going to do the re-labeling of the DK/REF level, the re-ordering of the factors, create the final freq table and save it as an object.  I'm also going to convert the numerical proportions in the Percentage column to strings that represent the percentages formatted with % and rounding to one decimal place.\n",
    "\n",
    "Note, creating the table in this way creates a df object.  Do not overwrite your df containing your individual observations with your frequency table, save it with a different object name."
   ]
  },
  {
   "cell_type": "code",
   "execution_count": 34,
   "metadata": {},
   "outputs": [
    {
     "data": {
      "text/html": [
       "<table>\n",
       "<caption>A tibble: 6 × 3</caption>\n",
       "<thead>\n",
       "\t<tr><th scope=col>sci_good</th><th scope=col>Frequency</th><th scope=col>Percentage</th></tr>\n",
       "\t<tr><th scope=col>&lt;fct&gt;</th><th scope=col>&lt;int&gt;</th><th scope=col>&lt;chr&gt;</th></tr>\n",
       "</thead>\n",
       "<tbody>\n",
       "\t<tr><td>Strongly Agree            </td><td>349</td><td>35.0%</td></tr>\n",
       "\t<tr><td>Somewhat Agree            </td><td>335</td><td>33.6%</td></tr>\n",
       "\t<tr><td>Neither Agree nor Disagree</td><td> 19</td><td> 1.9%</td></tr>\n",
       "\t<tr><td>Somewhat Disagree         </td><td>133</td><td>13.3%</td></tr>\n",
       "\t<tr><td>Strongly Disagree         </td><td>102</td><td>10.2%</td></tr>\n",
       "\t<tr><td>Don't Know or Refused     </td><td> 60</td><td> 6.0%</td></tr>\n",
       "</tbody>\n",
       "</table>\n"
      ],
      "text/latex": [
       "A tibble: 6 × 3\n",
       "\\begin{tabular}{lll}\n",
       " sci\\_good & Frequency & Percentage\\\\\n",
       " <fct> & <int> & <chr>\\\\\n",
       "\\hline\n",
       "\t Strongly Agree             & 349 & 35.0\\%\\\\\n",
       "\t Somewhat Agree             & 335 & 33.6\\%\\\\\n",
       "\t Neither Agree nor Disagree &  19 &  1.9\\%\\\\\n",
       "\t Somewhat Disagree          & 133 & 13.3\\%\\\\\n",
       "\t Strongly Disagree          & 102 & 10.2\\%\\\\\n",
       "\t Don't Know or Refused      &  60 &  6.0\\%\\\\\n",
       "\\end{tabular}\n"
      ],
      "text/markdown": [
       "\n",
       "A tibble: 6 × 3\n",
       "\n",
       "| sci_good &lt;fct&gt; | Frequency &lt;int&gt; | Percentage &lt;chr&gt; |\n",
       "|---|---|---|\n",
       "| Strongly Agree             | 349 | 35.0% |\n",
       "| Somewhat Agree             | 335 | 33.6% |\n",
       "| Neither Agree nor Disagree |  19 |  1.9% |\n",
       "| Somewhat Disagree          | 133 | 13.3% |\n",
       "| Strongly Disagree          | 102 | 10.2% |\n",
       "| Don't Know or Refused      |  60 |  6.0% |\n",
       "\n"
      ],
      "text/plain": [
       "  sci_good                   Frequency Percentage\n",
       "1 Strongly Agree             349       35.0%     \n",
       "2 Somewhat Agree             335       33.6%     \n",
       "3 Neither Agree nor Disagree  19        1.9%     \n",
       "4 Somewhat Disagree          133       13.3%     \n",
       "5 Strongly Disagree          102       10.2%     \n",
       "6 Don't Know or Refused       60        6.0%     "
      ]
     },
     "metadata": {},
     "output_type": "display_data"
    }
   ],
   "source": [
    "## note - I'm not making these adjustments to the underlying dataset, I'm only making them as I'm building the table\n",
    "## I'm doing this all in one statement/pipe but I'm putting comments between lines\n",
    "\n",
    "sci_good_table <- #save the resulting table object\n",
    "    cah_poll %>% # start with the df with the observations\n",
    "# relabel DK/REF - we have to use fct_ functions within mutate because we're editing one variable inside a df\n",
    "    mutate(sci_good = fct_recode(sci_good, \"Don't Know or Refused\" = \"DK/REF\")) %>% \n",
    "# reorder factor levels - again I need to do this inside mutate\n",
    "    mutate(sci_good = fct_relevel(sci_good, \"Strongly Agree\", \"Somewhat Agree\", \"Neither Agree nor Disagree\", \n",
    "                                             \"Somewhat Disagree\", \"Strongly Disagree\"))  %>% \n",
    "# create table\n",
    "    group_by(sci_good) %>% \n",
    "    summarize(Frequency = n(), ## Note that I'm making my summary vars PQ quality names because these will be the column headings\n",
    "              Percentage = n() / dim(cah_poll)[1])  %>% \n",
    "# format percentages - now I'm using mutate on the df that resulted from the summarize statement.  \n",
    "# This needs to be done after creating the table but still in the same pipe.  We're passing forward a df in it's current state\n",
    "# in the create table step we're creating a different df from our df of observations and that is now the df passed forward\n",
    "    mutate(Percentage = paste0(format(Percentage * 100, digits = 2), \"%\")) # multplying by 100 and keeping one decimal place / 2 sig digits\n",
    "    # paste0 is used to add % to the end of the number\n",
    "\n",
    "#inspect resulting table / df\n",
    "sci_good_table"
   ]
  },
  {
   "cell_type": "markdown",
   "metadata": {},
   "source": [
    "Now that we have the information in a table format we want, we can proceed to \"prettify\" our table for output to a paper.\n",
    "\n",
    "We'll use the package `flextable` for this."
   ]
  },
  {
   "cell_type": "code",
   "execution_count": 30,
   "metadata": {},
   "outputs": [
    {
     "data": {
      "text/plain": [
       "a flextable object.\n",
       "col_keys: `sci_good`, `Frequency`, `Percentage` \n",
       "header has 1 row(s) \n",
       "body has 6 row(s) \n",
       "original dataset sample: \n",
       "                    sci_good Frequency Percentage\n",
       "1             Strongly Agree       349      35.0%\n",
       "2             Somewhat Agree       335      33.6%\n",
       "3 Neither Agree nor Disagree        19       1.9%\n",
       "4          Somewhat Disagree       133      13.3%\n",
       "5          Strongly Disagree       102      10.2%"
      ]
     },
     "metadata": {},
     "output_type": "display_data"
    }
   ],
   "source": [
    "flextable(sci_good_table)"
   ]
  },
  {
   "cell_type": "markdown",
   "metadata": {},
   "source": [
    "First, a note, if you run this code in RStudio in an .rmd you will get a preview of the formatted table in the \"Viewer\" pane.  This doesn't occur within this framework, we're instead seeing the underlying structure of the \"flextable\" object.\n",
    "\n",
    "This, just passing our df to the flextable() function creates the most basic flextable with default options.  When I ran this code in RStudio I ended up with something that needs a bit of customization:\n",
    "\n",
    "<img src=\"pqimages/flex1.jpeg\" height = '50'>\n",
    "\n",
    "The first and most important thing I need to do has nothing to do with the table formatting - I need to relabel the first column \"sci_good\" with a descriptive name.  I'm going to do this in the df before creating the flex table"
   ]
  },
  {
   "cell_type": "code",
   "execution_count": 37,
   "metadata": {},
   "outputs": [],
   "source": [
    "# using vector index [1] to access only the first column name of the df sci_good_table\n",
    "colnames(sci_good_table)[1] <- \"Response\""
   ]
  },
  {
   "cell_type": "markdown",
   "metadata": {},
   "source": [
    "I get: \n",
    "![](pqimages/ft2.png)\n",
    "Now I need to autofit the table to the contents to make the table more attractive and readable"
   ]
  },
  {
   "cell_type": "code",
   "execution_count": 38,
   "metadata": {},
   "outputs": [
    {
     "data": {
      "text/plain": [
       "a flextable object.\n",
       "col_keys: `Response`, `Frequency`, `Percentage` \n",
       "header has 1 row(s) \n",
       "body has 6 row(s) \n",
       "original dataset sample: \n",
       "                    Response Frequency Percentage\n",
       "1             Strongly Agree       349      35.0%\n",
       "2             Somewhat Agree       335      33.6%\n",
       "3 Neither Agree nor Disagree        19       1.9%\n",
       "4          Somewhat Disagree       133      13.3%\n",
       "5          Strongly Disagree       102      10.2%"
      ]
     },
     "metadata": {},
     "output_type": "display_data"
    }
   ],
   "source": [
    "## create flextable object and save it as base_table\n",
    "base_table <- flextable(sci_good_table)\n",
    "\n",
    "# use autofit() on the base_table object\n",
    "autofit(base_table)"
   ]
  },
  {
   "cell_type": "markdown",
   "metadata": {},
   "source": [
    "We now have a good basic structure. \n",
    "![](pqimages/ft3.png)\n",
    "\n",
    "Time to add a title."
   ]
  },
  {
   "cell_type": "code",
   "execution_count": 39,
   "metadata": {},
   "outputs": [
    {
     "data": {
      "text/plain": [
       "a flextable object.\n",
       "col_keys: `Response`, `Frequency`, `Percentage` \n",
       "header has 2 row(s) \n",
       "body has 6 row(s) \n",
       "original dataset sample: \n",
       "                    Response Frequency Percentage\n",
       "1             Strongly Agree       349      35.0%\n",
       "2             Somewhat Agree       335      33.6%\n",
       "3 Neither Agree nor Disagree        19       1.9%\n",
       "4          Somewhat Disagree       133      13.3%\n",
       "5          Strongly Disagree       102      10.2%"
      ]
     },
     "metadata": {},
     "output_type": "display_data"
    }
   ],
   "source": [
    "base_table <- flextable(sci_good_table)\n",
    "\n",
    "bt2 <- autofit(base_table)\n",
    "add_header_lines(bt2, \"Table 1: Scientists are honest and serving public good\")"
   ]
  },
  {
   "cell_type": "markdown",
   "metadata": {},
   "source": [
    "We're getting close to a PQ table.  I also want to alter the justification for the columns of values.\n",
    "\n",
    "This is current state:\n",
    "![](pqimages/ft4.png)\n"
   ]
  },
  {
   "cell_type": "code",
   "execution_count": 40,
   "metadata": {},
   "outputs": [
    {
     "data": {
      "text/plain": [
       "a flextable object.\n",
       "col_keys: `Response`, `Frequency`, `Percentage` \n",
       "header has 2 row(s) \n",
       "body has 6 row(s) \n",
       "original dataset sample: \n",
       "                    Response Frequency Percentage\n",
       "1             Strongly Agree       349      35.0%\n",
       "2             Somewhat Agree       335      33.6%\n",
       "3 Neither Agree nor Disagree        19       1.9%\n",
       "4          Somewhat Disagree       133      13.3%\n",
       "5          Strongly Disagree       102      10.2%"
      ]
     },
     "metadata": {},
     "output_type": "display_data"
    }
   ],
   "source": [
    "# create base_table\n",
    "base_table <- flextable(sci_good_table)\n",
    "# autofit and save as bt2\n",
    "bt2 <- autofit(base_table)\n",
    "# add title, save as bt3\n",
    "bt3 <- add_header_lines(bt2, \"Table 1: Scientists are honest and serving public good\")\n",
    "# align numerical columns, save as bt4\n",
    "# align can equal \"center\" \"left\" or \"right\"\n",
    "# part = \"all\" to do the action on the entire table\n",
    "# j = 2:3 indicates I only want to align the 2nd and 3rd columns. \n",
    "bt4 <- align(bt3, align = \"center\", part = \"all\", j = 2:3)\n",
    "bt4"
   ]
  },
  {
   "cell_type": "markdown",
   "metadata": {},
   "source": [
    "Rendered in RStudio this looks like:\n",
    "![](pqimages/ft5.png)\n",
    "\n",
    "I now need to save this object in a way that I can include it in my paper.  I can do this either as a picture file or in .doc (Microsoft Word) format"
   ]
  },
  {
   "cell_type": "code",
   "execution_count": 43,
   "metadata": {},
   "outputs": [
    {
     "data": {
      "image/png": "[encoded data removed]",
      "text/plain": [
       "plot without title"
      ]
     },
     "metadata": {
      "image/png": {
       "height": 420,
       "width": 420
      },
      "text/plain": {
       "height": 420,
       "width": 420
      }
     },
     "output_type": "display_data"
    }
   ],
   "source": [
    "## plot is a way to render the image as an internal R image object - \n",
    "## this will not save it to your computer as an image\n",
    "## this is how the plot will appear when saved.  As you can see it's slightly better than the RStudio preview\n",
    "plot(bt4)"
   ]
  },
  {
   "cell_type": "markdown",
   "metadata": {},
   "source": [
    "To save a flexable as an img you need to install `phantomjs` and `webshot`.  To save as a .doc file you need to install "
   ]
  },
  {
   "cell_type": "code",
   "execution_count": 47,
   "metadata": {},
   "outputs": [
    {
     "data": {
      "text/html": [
       "'C:/Users/Adrianne/Documents/GitHub/INST314_spring2020/sci_good_table.png'"
      ],
      "text/latex": [
       "'C:/Users/Adrianne/Documents/GitHub/INST314\\_spring2020/sci\\_good\\_table.png'"
      ],
      "text/markdown": [
       "'C:/Users/Adrianne/Documents/GitHub/INST314_spring2020/sci_good_table.png'"
      ],
      "text/plain": [
       "[1] \"C:/Users/Adrianne/Documents/GitHub/INST314_spring2020/sci_good_table.png\""
      ]
     },
     "metadata": {},
     "output_type": "display_data"
    }
   ],
   "source": [
    "## SAVE AS IMG FILE\n",
    "\n",
    "save_as_image(bt4, path = \"sci_good_table.png\") ## need an img extension, .png"
   ]
  },
  {
   "cell_type": "markdown",
   "metadata": {},
   "source": [
    "I can print this table here in the markdown block to show you the saved image (which will need to be sized to fit appropriately in your document):\n",
    "\n",
    "![](sci_good_table.png)\n"
   ]
  },
  {
   "cell_type": "code",
   "execution_count": 48,
   "metadata": {},
   "outputs": [],
   "source": [
    "## SAVE AS .DOCX\n",
    "save_as_docx(bt4, path = \"sci_good_tab.docx\")"
   ]
  },
  {
   "cell_type": "markdown",
   "metadata": {},
   "source": [
    "Running that code won't output anyting in RStudio, but you should now have a docx file by the name you selected in `path = ` in your working directory.  Remember if you don't know what your working directory is (where you are in the file structure of your computer) you can run `getwd()`\n",
    "\n",
    "<a id = \"twoway\"></a>\n",
    "#### Two-way Frequency Table\n",
    "I'll quickly show you how to make a crosstab / contingency table / two-way table.  "
   ]
  },
  {
   "cell_type": "code",
   "execution_count": 61,
   "metadata": {},
   "outputs": [
    {
     "data": {
      "text/html": [
       "<table>\n",
       "<caption>A data.frame: 7 × 7</caption>\n",
       "<thead>\n",
       "\t<tr><th></th><th scope=col>Strongly Agree</th><th scope=col>Somewhat Agree</th><th scope=col>Neither Agree nor Disagree</th><th scope=col>Somewhat Disagree</th><th scope=col>Strongly Disagree</th><th scope=col>Don't Know or Refused</th><th scope=col>Sum</th></tr>\n",
       "\t<tr><th></th><th scope=col>&lt;dbl&gt;</th><th scope=col>&lt;dbl&gt;</th><th scope=col>&lt;dbl&gt;</th><th scope=col>&lt;dbl&gt;</th><th scope=col>&lt;dbl&gt;</th><th scope=col>&lt;dbl&gt;</th><th scope=col>&lt;dbl&gt;</th></tr>\n",
       "</thead>\n",
       "<tbody>\n",
       "\t<tr><th scope=row>Strongly Agree</th><td>270</td><td> 44</td><td> 3</td><td>14</td><td>11</td><td> 7</td><td>349</td></tr>\n",
       "\t<tr><th scope=row>Somewhat Agree</th><td>206</td><td> 87</td><td> 3</td><td>23</td><td>11</td><td> 5</td><td>335</td></tr>\n",
       "\t<tr><th scope=row>Neither Agree nor Disagree</th><td>  7</td><td>  4</td><td> 6</td><td> 1</td><td> 0</td><td> 1</td><td> 19</td></tr>\n",
       "\t<tr><th scope=row>Somewhat Disagree</th><td> 56</td><td> 31</td><td> 2</td><td>21</td><td>18</td><td> 5</td><td>133</td></tr>\n",
       "\t<tr><th scope=row>Strongly Disagree</th><td> 41</td><td> 21</td><td> 1</td><td>13</td><td>18</td><td> 8</td><td>102</td></tr>\n",
       "\t<tr><th scope=row>Don't Know or Refused</th><td> 22</td><td> 11</td><td> 1</td><td> 3</td><td> 2</td><td>21</td><td> 60</td></tr>\n",
       "\t<tr><th scope=row>Sum</th><td>602</td><td>198</td><td>16</td><td>75</td><td>60</td><td>47</td><td>998</td></tr>\n",
       "</tbody>\n",
       "</table>\n"
      ],
      "text/latex": [
       "A data.frame: 7 × 7\n",
       "\\begin{tabular}{r|lllllll}\n",
       "  & Strongly Agree & Somewhat Agree & Neither Agree nor Disagree & Somewhat Disagree & Strongly Disagree & Don't Know or Refused & Sum\\\\\n",
       "  & <dbl> & <dbl> & <dbl> & <dbl> & <dbl> & <dbl> & <dbl>\\\\\n",
       "\\hline\n",
       "\tStrongly Agree & 270 &  44 &  3 & 14 & 11 &  7 & 349\\\\\n",
       "\tSomewhat Agree & 206 &  87 &  3 & 23 & 11 &  5 & 335\\\\\n",
       "\tNeither Agree nor Disagree &   7 &   4 &  6 &  1 &  0 &  1 &  19\\\\\n",
       "\tSomewhat Disagree &  56 &  31 &  2 & 21 & 18 &  5 & 133\\\\\n",
       "\tStrongly Disagree &  41 &  21 &  1 & 13 & 18 &  8 & 102\\\\\n",
       "\tDon't Know or Refused &  22 &  11 &  1 &  3 &  2 & 21 &  60\\\\\n",
       "\tSum & 602 & 198 & 16 & 75 & 60 & 47 & 998\\\\\n",
       "\\end{tabular}\n"
      ],
      "text/markdown": [
       "\n",
       "A data.frame: 7 × 7\n",
       "\n",
       "| <!--/--> | Strongly Agree &lt;dbl&gt; | Somewhat Agree &lt;dbl&gt; | Neither Agree nor Disagree &lt;dbl&gt; | Somewhat Disagree &lt;dbl&gt; | Strongly Disagree &lt;dbl&gt; | Don't Know or Refused &lt;dbl&gt; | Sum &lt;dbl&gt; |\n",
       "|---|---|---|---|---|---|---|---|\n",
       "| Strongly Agree | 270 |  44 |  3 | 14 | 11 |  7 | 349 |\n",
       "| Somewhat Agree | 206 |  87 |  3 | 23 | 11 |  5 | 335 |\n",
       "| Neither Agree nor Disagree |   7 |   4 |  6 |  1 |  0 |  1 |  19 |\n",
       "| Somewhat Disagree |  56 |  31 |  2 | 21 | 18 |  5 | 133 |\n",
       "| Strongly Disagree |  41 |  21 |  1 | 13 | 18 |  8 | 102 |\n",
       "| Don't Know or Refused |  22 |  11 |  1 |  3 |  2 | 21 |  60 |\n",
       "| Sum | 602 | 198 | 16 | 75 | 60 | 47 | 998 |\n",
       "\n"
      ],
      "text/plain": [
       "                           Strongly Agree Somewhat Agree\n",
       "Strongly Agree             270             44           \n",
       "Somewhat Agree             206             87           \n",
       "Neither Agree nor Disagree   7              4           \n",
       "Somewhat Disagree           56             31           \n",
       "Strongly Disagree           41             21           \n",
       "Don't Know or Refused       22             11           \n",
       "Sum                        602            198           \n",
       "                           Neither Agree nor Disagree Somewhat Disagree\n",
       "Strongly Agree              3                         14               \n",
       "Somewhat Agree              3                         23               \n",
       "Neither Agree nor Disagree  6                          1               \n",
       "Somewhat Disagree           2                         21               \n",
       "Strongly Disagree           1                         13               \n",
       "Don't Know or Refused       1                          3               \n",
       "Sum                        16                         75               \n",
       "                           Strongly Disagree Don't Know or Refused Sum\n",
       "Strongly Agree             11                 7                    349\n",
       "Somewhat Agree             11                 5                    335\n",
       "Neither Agree nor Disagree  0                 1                     19\n",
       "Somewhat Disagree          18                 5                    133\n",
       "Strongly Disagree          18                 8                    102\n",
       "Don't Know or Refused       2                21                     60\n",
       "Sum                        60                47                    998"
      ]
     },
     "metadata": {},
     "output_type": "display_data"
    },
    {
     "name": "stderr",
     "output_type": "stream",
     "text": [
      "Warning message in Ops.factor(MARGIN):\n",
      "\"'-' not meaningful for factors\"\n"
     ]
    },
    {
     "ename": "ERROR",
     "evalue": "Error in margin.table(x, margin): 'x' is not an array\n",
     "output_type": "error",
     "traceback": [
      "Error in margin.table(x, margin): 'x' is not an array\nTraceback:\n",
      "1. as.data.frame.matrix(addmargins(prop.table(cp2$sci_good, cp2$vaccines)))",
      "2. addmargins(prop.table(cp2$sci_good, cp2$vaccines))",
      "3. prop.table(cp2$sci_good, cp2$vaccines)",
      "4. sweep(x, margin, margin.table(x, margin), \"/\", check.margin = FALSE)",
      "5. aperm(array(STATS, dims[perm]), order(perm))",
      "6. array(STATS, dims[perm])",
      "7. margin.table(x, margin)",
      "8. stop(\"'x' is not an array\")"
     ]
    }
   ],
   "source": [
    "## adjust factor labels\n",
    "cp2 <- cah_poll %>% ## create new clean version for this table\n",
    "    mutate(sci_good = fct_recode(sci_good, \"Don't Know or Refused\" = \"DK/REF\")) %>% \n",
    "    mutate(vaccines = fct_recode(vaccines, \"Don't Know or Refused\" = \"DK/REF\")) %>% \n",
    "    mutate(sci_good = fct_relevel(sci_good, \"Strongly Agree\", \"Somewhat Agree\", \"Neither Agree nor Disagree\", \n",
    "                                             \"Somewhat Disagree\", \"Strongly Disagree\"))  %>% \n",
    "    mutate(vaccines = fct_relevel(vaccines, \"Strongly Agree\", \"Somewhat Agree\", \"Neither Agree nor Disagree\", \n",
    "                                             \"Somewhat Disagree\", \"Strongly Disagree\"))\n",
    "\n",
    "## create frequency table with totals in the margins\n",
    "freqtab <- as.data.frame.matrix(addmargins(table(cp2$sci_good, cp2$vaccines))) \n",
    "freqtab \n",
    "\n",
    "## create percentage table with totals in margins\n",
    "proptab <- as.data.frame.matrix(addmargins(prop.table(cp2$sci_good, cp2$vaccines))) \n",
    "proptab \n"
   ]
  },
  {
   "cell_type": "markdown",
   "metadata": {},
   "source": [
    "The sci_good variable was the first variable entered in to the function, therefore is the row variable (labels on left).  The second variable entered, vaccines, is the variable across the columns (labels at top)."
   ]
  },
  {
   "cell_type": "code",
   "execution_count": null,
   "metadata": {},
   "outputs": [],
   "source": [
    "## as.data.frame.matrix() let's us make the table a data.frame\n",
    "as.data.frame.matrix(table(cah_poll$sci_good, cah_poll$vaccines)) "
   ]
  },
  {
   "cell_type": "markdown",
   "metadata": {},
   "source": [
    "### Grouped Statistics\n",
    "Often we want to look at numerical descriptive statistics (mean, median) but within groups of a categorical variable.  We saw an example of this on the first homework."
   ]
  },
  {
   "cell_type": "code",
   "execution_count": null,
   "metadata": {},
   "outputs": [],
   "source": [
    "# lets look at a summary of age by whether the R thinks it's ok to urinate in the shower\n",
    "cah_poll  %>% \n",
    "    mutate(urinate = fct_infreq(urinate)) %>% ## ordering factor by frequency for this table\n",
    "    group_by(urinate)  %>% \n",
    "    summarize(freq = n(),\n",
    "              mean_age = mean(age), \n",
    "              med_age = median(age),\n",
    "              stddev_age = sd(age))"
   ]
  },
  {
   "cell_type": "markdown",
   "metadata": {},
   "source": [
    "<a id=\"viz\"></a>\n",
    "## Visualizations\n",
    "Now we'll move onto making charts and graphs with ggplot2.  In this notebook I'll use one example plot and build it up from basic to fully customized item by item.  These customizations will work on any ggplot2 objects, including the ones created from ggpubr (the grouped mean plot).\n",
    "\n",
    "For this example I'm going to look at the distribution of the R's estimate of federal budget spent on scientific research by political party.\n"
   ]
  },
  {
   "cell_type": "code",
   "execution_count": 68,
   "metadata": {},
   "outputs": [],
   "source": [
    "# edit factor levels of politcal party\n",
    "cah_poll %<>% #save changes overwriting cah_poll\n",
    "    mutate(polaffil = fct_recode(polaffil, \"Don't Know or Refused\" = \"DK/REF\")) %>% \n",
    "    mutate(polaffil = fct_relevel(polaffil, \"Democrat\", \"Independent\", \"Republican\"))"
   ]
  },
  {
   "cell_type": "code",
   "execution_count": 77,
   "metadata": {},
   "outputs": [
    {
     "data": {
      "image/png": "[encoded data removed]",
      "text/plain": [
       "plot without title"
      ]
     },
     "metadata": {
      "image/png": {
       "height": 360,
       "width": 540
      },
      "text/plain": {
       "height": 360,
       "width": 540
      }
     },
     "output_type": "display_data"
    }
   ],
   "source": [
    "options(repr.plot.width=9, repr.plot.height=6) ## plot size options for Jupyter notebook ONLY\n",
    "\n",
    "#create base ggplot - grouped boxplot\n",
    "## note that I can save this base plot as a ggplot object. I'm going to call mine bp (for base plot)\n",
    "## I can then take that base plot and add other options to it without restating all of the plot setup\n",
    "bp <- cah_poll %>% ggplot(aes(x = polaffil, y = fedbudget, fill = polaffil)) +\n",
    "                geom_boxplot()\n",
    "\n",
    "bp ## print plot - when you save the plot it doesn't print to screen"
   ]
  },
  {
   "cell_type": "markdown",
   "metadata": {},
   "source": [
    "That is the most basic plot laying out our variables and the type of plot we want (the geom or geometry).  Now we'll add a customization that is vital to PQ format, custom descriptive labels and titles."
   ]
  },
  {
   "cell_type": "code",
   "execution_count": 79,
   "metadata": {},
   "outputs": [
    {
     "data": {
      "image/png": "[encoded data removed]",
      "text/plain": [
       "plot without title"
      ]
     },
     "metadata": {
      "image/png": {
       "height": 360,
       "width": 540
      },
      "text/plain": {
       "height": 360,
       "width": 540
      }
     },
     "output_type": "display_data"
    }
   ],
   "source": [
    "bp2 <- bp + # start with saved base plot and add labels, save as bp2\n",
    "    labs(x = \"Political Affiliation\", y = \"Percent spent on research\", \n",
    "         title = \"Estimates of % of Federal Budget Spent on Science by Political Affiliation\")\n",
    "\n",
    "bp2"
   ]
  },
  {
   "cell_type": "markdown",
   "metadata": {},
   "source": [
    "Now we have descriptive labels on everything but the Legend for the key of the different colors.  Because those colored bars are labeled on the x-axis we can suppress the legend from printing.  I'll start with bp2, the base ggplot + labels we just added, remove the legend and save it as bp3."
   ]
  },
  {
   "cell_type": "code",
   "execution_count": 81,
   "metadata": {},
   "outputs": [
    {
     "data": {
      "image/png": "[encoded data removed]",
      "text/plain": [
       "plot without title"
      ]
     },
     "metadata": {
      "image/png": {
       "height": 360,
       "width": 540
      },
      "text/plain": {
       "height": 360,
       "width": 540
      }
     },
     "output_type": "display_data"
    }
   ],
   "source": [
    "bp3 <- bp2 +\n",
    "    theme(legend.position = \"none\") ## legend position = none removes legend.  It's part of the theme() setup of the plot\n",
    "bp3"
   ]
  },
  {
   "cell_type": "markdown",
   "metadata": {},
   "source": [
    "This would satisfy PQ at the lowest possible acceptable level, but there is so much more we could do.  In the next cells I'm going to progressively add additional customizations."
   ]
  },
  {
   "cell_type": "code",
   "execution_count": 87,
   "metadata": {},
   "outputs": [
    {
     "data": {
      "image/png": "[encoded data removed]",
      "text/plain": [
       "plot without title"
      ]
     },
     "metadata": {
      "image/png": {
       "height": 360,
       "width": 540
      },
      "text/plain": {
       "height": 360,
       "width": 540
      }
     },
     "output_type": "display_data"
    }
   ],
   "source": [
    "## custom colors for box fills.\n",
    "\n",
    "bp4 <- bp3 +\n",
    "    scale_fill_manual(values=c(\"#3333FF\", \"#00FF00\", \"#FF0000\", \"#6633CC\")) #hex color codes\n",
    "\n",
    "# use scale_fill_manual when using fill in aes() use scale_color_manual when using color() in aes()\n",
    "\n",
    "bp4"
   ]
  },
  {
   "cell_type": "code",
   "execution_count": null,
   "metadata": {},
   "outputs": [],
   "source": []
  },
  {
   "cell_type": "markdown",
   "metadata": {},
   "source": [
    "## YOUR TURN!\n",
    "Create one graph (of any type shown here) to visualize variable(s) in the cah_poll dataset that we have not yet looked at.  You can run glimpse() to remind you what variables are included in the df.  Look up use a customization to ggplot we haven't discussed here."
   ]
  },
  {
   "cell_type": "code",
   "execution_count": null,
   "metadata": {},
   "outputs": [],
   "source": []
  }
 ],
 "metadata": {
  "kernelspec": {
   "display_name": "R",
   "language": "R",
   "name": "ir"
  },
  "language_info": {
   "codemirror_mode": "r",
   "file_extension": ".r",
   "mimetype": "text/x-r-source",
   "name": "R",
   "pygments_lexer": "r",
   "version": "3.6.1"
  }
 },
 "nbformat": 4,
 "nbformat_minor": 2
}
