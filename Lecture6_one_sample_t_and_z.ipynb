{
 "cells": [
  {
   "cell_type": "code",
   "execution_count": null,
   "metadata": {},
   "outputs": [],
   "source": [
    "# LIBRARIES\n",
    "library(tidyverse)\n",
    "library(magrittr) ## for pipe operators\n",
    "library(DescTools) ## for effect size functions\n",
    "library(pwr) ## for power function\n",
    "library(scales) ## for scaling functions for ggplot2\n",
    "library(gridExtra) # two plots next to each other\n",
    "options(repr.plot.width  = 8,\n",
    "        repr.plot.height = 6)\n",
    "bold.14.text <- element_text(face = \"bold\", size = 14)"
   ]
  },
  {
   "cell_type": "code",
   "execution_count": null,
   "metadata": {},
   "outputs": [],
   "source": [
    "cah_oct <- read_csv(\"201710-CAH_PulseOfTheNation_Raw.csv\")\n",
    "## variable names currently full questions - need to rename\n",
    "new_names <- c(\"income\", \"gender\", \"age\", \"age_cat\", \"polaffil\", \"trump\", \"educ\", \"race\", \"whtnat\", \"whtnat_rep\",\n",
    "              \"love_us\", \"love_us_dem\", \"helppoor\", \"helppoor_rep\", \"racist\", \"racist_dem\", \"friendtrump\", \"civilwar\",\n",
    "              \"hunting\", \"kale\", \"therock\", \"trumpvader\")\n",
    "colnames(cah_oct) <- new_names\n",
    "cah_oct %<>% drop_na(income)\n",
    "glimpse(cah_oct)"
   ]
  },
  {
   "cell_type": "markdown",
   "metadata": {},
   "source": [
    "## One-Sample z-test - Conceptual Example\n",
    "Overall, the mean household income in the United States, according to the US Census Bureau 2014 Annual Social and Economic Supplement, is $72,641. https://en.wikipedia.org/wiki/Household_income_in_the_United_States#Mean_household_income\n",
    "\n",
    "We want to know if the average income in our october poll sample is significantly different from the current national average of $72,641.\n",
    "\n",
    "How would we run a hypothesis test for this?\n",
    "\n",
    "### Step 1 - Formulate Hypothesis\n",
    "\n",
    "Population mean is $\\mu$, which specified in our question - $72,641\n",
    "\n",
    "Sample mean is $\\bar{x}$ which we will calculate from our data.\n",
    "\n",
    "$H_0 : \\bar{x} = \\$72,641$\n",
    "\n",
    "$H_A : \\bar{x} \\neq \\$72,641$\n",
    "\n",
    "**Note:** Given our $H_A$ we're running a two-tailed test.\n",
    "\n"
   ]
  },
  {
   "cell_type": "code",
   "execution_count": null,
   "metadata": {},
   "outputs": [],
   "source": [
    "# set up some variables with important values\n",
    "mu_inc <- 72641\n",
    "popse <- 3500 ## the population se is 3.5k\n",
    "\n",
    "# get lower and upper dollar values for null distribution graph.\n",
    "lower <- mu_inc - 1.96*popse \n",
    "upper <- mu_inc + 1.96*popse"
   ]
  },
  {
   "cell_type": "code",
   "execution_count": null,
   "metadata": {},
   "outputs": [],
   "source": [
    "#graph the distribution of the population where null is true\n",
    "# NONE OF THIS GRAPH CODE HERE WILL BE USEFUL FOR YOUR ASSIGNMENTS - THIS IS AN EDUCATIONAL EXAMPLE\n",
    "z1 <- ggplot(data = data.frame(z = c(-3, 3)), aes(z)) +\n",
    "      stat_function(fun = dnorm, n = 101, args = list(mean = 0, sd = 1)) + \n",
    "      labs(y = \"\", title = \"DISTRIBUTION IF NULL IS TRUE\")+\n",
    "      scale_y_continuous(breaks = NULL, expand = c(0,0)) + theme(text = bold.14.text)\n",
    "z2 <- z1 + geom_vline(xintercept = 1.96, color = \"#00bcd9\", size = 2) +\n",
    "           geom_vline(xintercept = -1.96, color = \"#00bcd9\", size = 2) \n",
    "z3 <- z2 + stat_function(fun = dnorm, xlim = c(-3,-1.96), geom = \"area\", alpha=0.2, fill = \"#00bcd9\")+\n",
    "           stat_function(fun = dnorm, xlim = c(1.96,3), geom = \"area\", alpha=0.2, fill = \"#00bcd9\")\n",
    "z4 <- z3 + annotate(geom=\"text\", x=2, y=.05, label=paste0(\"if z = 1.96, \\nincome = \", dollar(upper)),\n",
    "                    color = \"#4d004d\", size = 5) +\n",
    "           annotate(geom=\"text\", x=-2, y=.05, label=paste0(\"if z = -1.96, \\nincome = \", dollar(lower)),\n",
    "                    color = \"#4d004d\", size = 5) +\n",
    "           annotate(geom=\"text\", x=0, y=.05, label=paste0(\"Population Mean = \", dollar(mu_inc)),\n",
    "                    color = \"#4d004d\", size = 5)\n",
    "z4"
   ]
  },
  {
   "cell_type": "markdown",
   "metadata": {},
   "source": [
    "### Step 2 - Prepare and Check Conditions\n",
    "\n",
    "Set alpha ->>> $\\alpha = 0.05$\n",
    "\n",
    "Random and independent sample ->>> Yes\n",
    "\n",
    "Sample is <10% of the population? ->>> Yes\n",
    "\n",
    "We can assume our population is normally distributed due to the Central Limit Theorem, but let's check on the normality of our sample anyway."
   ]
  },
  {
   "cell_type": "code",
   "execution_count": null,
   "metadata": {},
   "outputs": [],
   "source": [
    "# create a QQ plot using ggplot, sample in aes is your numerical variable\n",
    "\n",
    "cah_oct  %>%  ggplot(aes(sample = income)) +\n",
    "  geom_qq() +\n",
    "  geom_qq_line() +\n",
    "  labs(title = \"QQ Plot of Income in October Poll\")+\n",
    "    theme(axis.text.x = bold.14.text, \n",
    "                      text = bold.14.text)"
   ]
  },
  {
   "cell_type": "code",
   "execution_count": null,
   "metadata": {},
   "outputs": [],
   "source": [
    "s1 <- cah_oct %>% ggplot(aes(x = income/1000)) +\n",
    "                geom_histogram(bins = 20, fill = \"magenta\") +\n",
    "      labs(x = \"Income in $1000\", y = \"Frequency\",\n",
    "           title = \"Distribution of Income in October Poll\") +\n",
    "      theme(text = bold.14.text)\n",
    "s2 <- s1 + geom_vline(xintercept = mean(cah_oct$income)/1000, color = \"#00bcd9\", size = 2) +\n",
    "           annotate(geom=\"text\", x=155, y=60, \n",
    "                    label=paste0(\"Sample Mean = \", dollar(mean(cah_oct$income))),\n",
    "                    color = \"#009bb3\", size = 5) \n",
    "s3 <- s2 + geom_vline(xintercept = 72641/1000, color = \"#990099\", size = 2) +\n",
    "           annotate(geom=\"text\", x=165, y=50, \n",
    "                   label=\"Population Mean = $72.461\",\n",
    "                   color = \"#4d004d\", size = 5) \n",
    "s1\n"
   ]
  },
  {
   "cell_type": "markdown",
   "metadata": {},
   "source": [
    "### Step 3: Calculate z-statistic and p-value\n",
    "\n",
    "We know what the population mean is (`mu_inc` = $72,641) and what the population standard error is (`popse` = 3,500), so we can use a z-test to see if our sample mean is significantly different from the population mean.\n",
    "\n",
    "We're doing a two-tailed test.\n",
    "\n",
    "The formula is:\n",
    "# $z = \\frac{\\bar{X} - \\mu}{\\sigma_{\\bar{x}}}$ "
   ]
  },
  {
   "cell_type": "code",
   "execution_count": null,
   "metadata": {},
   "outputs": [],
   "source": [
    "# calculate x_bar, the sample mean\n",
    "x_bar <- mean(cah_oct$income)\n",
    "x_bar"
   ]
  },
  {
   "cell_type": "code",
   "execution_count": null,
   "metadata": {},
   "outputs": [],
   "source": [
    "# calculate z score (observed)\n",
    "z_obs <- (x_bar - mu_inc) / popse\n",
    "z_obs"
   ]
  },
  {
   "cell_type": "code",
   "execution_count": null,
   "metadata": {},
   "outputs": [],
   "source": [
    "# add observed z value to null distribution graph\n",
    "z5 <- z4 + geom_vline(xintercept = z_obs, color = \"#66ff33\", size = 2) \n",
    "z5"
   ]
  },
  {
   "cell_type": "markdown",
   "metadata": {},
   "source": [
    "### Conceptual Z-test Example - Conclusion\n",
    "Our sample mean was $74,710.  \n",
    "\n",
    "It was not significantly different from the population mean of $72,641.  \n",
    "\n",
    "The z-score associated with the sample mean is 0.59, which does not exceed -/+ 1.96 (critical z-score for a two-tailed test at alpha = 0.05), therefore we fail to reject null.  \n",
    "\n",
    "What if we didn't know the population standard error?  We would need to use a t-test.\n",
    "\n",
    "## One-sample t-test - Conceptual Example\n",
    "We're going to use the same set up above, but this time since we don't know the population standard error, we need to estimate it with the sample standard error.  Therefore we cannot use the z-test, we have to instead conduct a t-test.  "
   ]
  },
  {
   "cell_type": "code",
   "execution_count": null,
   "metadata": {},
   "outputs": [],
   "source": [
    "# to set up a distribution if the null is true we need a few calculations\n",
    "\n",
    "#sample standard error\n",
    "sampse <- sd(cah_oct$income) / sqrt(nrow(cah_oct))\n",
    "\n",
    "# degrees of freedom (n-1)\n",
    "dof <- nrow(cah_oct) - 1\n",
    "\n",
    "# critical value for a two-tailed t-test at alpha = 0.05\n",
    "tcrit <- qt(0.975, df = dof)\n",
    "\n",
    "lower_t <- mu_inc - tcrit*sampse \n",
    "upper_t <- mu_inc + tcrit*sampse"
   ]
  },
  {
   "cell_type": "code",
   "execution_count": null,
   "metadata": {},
   "outputs": [],
   "source": [
    "t1 <- ggplot(data.frame(t = c(-3, 3)), aes(x = t)) + \n",
    "      stat_function(fun = dt, args = list(0.05,df = dof)) +\n",
    "      labs(y = \"\", title = \"DISTRIBUTION IF NULL IS TRUE\")+\n",
    "      scale_y_continuous(breaks = NULL, expand = c(0,0)) + theme(text = bold.14.text)\n",
    "t2 <- t1 + geom_vline(xintercept = tcrit, color = \"#00bcd9\", size = 2) +\n",
    "           geom_vline(xintercept = -tcrit, color = \"#00bcd9\", size = 2) \n",
    "t3 <- t2 + stat_function(fun = dt, args = list(0.05, df = dof), \n",
    "                         xlim = c(-3,-tcrit), geom = \"area\", alpha=0.2, fill = \"#00bcd9\")+\n",
    "           stat_function(fun = dt, args = list(0.05, df = dof), \n",
    "                         xlim = c(tcrit,3), geom = \"area\", alpha=0.2, fill = \"#00bcd9\")\n",
    "t4 <- t3 + annotate(geom=\"text\", x=2, y=.1, label=paste0(\"if t = 1.97, \\nincome = \", dollar(upper_t)),\n",
    "                    color = \"#4d004d\", size = 5) +\n",
    "           annotate(geom=\"text\", x=-2, y=.1, label=paste0(\"if t = -1.97, \\nincome = \", dollar(lower_t)),\n",
    "                    color = \"#4d004d\", size = 5) +\n",
    "           annotate(geom=\"text\", x=0, y=.05, label=paste0(\"Population Mean = \\n\", dollar(mu_inc)),\n",
    "                    color = \"#4d004d\", size = 5)\n",
    "t1"
   ]
  },
  {
   "cell_type": "markdown",
   "metadata": {},
   "source": [
    "Now to calculate the t-value we use the same formula as for z, with a few adjustments.  Because we do not know the population standard error ($\\sigma$) we need to instead use the sample standard error ($s_{\\bar{x}}$).\n",
    "\n",
    "# $t = \\frac{\\bar{X} - \\mu}{s_{\\bar{x}}}$ "
   ]
  },
  {
   "cell_type": "code",
   "execution_count": null,
   "metadata": {},
   "outputs": [],
   "source": [
    "# calculate z score (observed)\n",
    "t_obs <- (x_bar - mu_inc) / sampse\n",
    "t_obs"
   ]
  },
  {
   "cell_type": "code",
   "execution_count": null,
   "metadata": {},
   "outputs": [],
   "source": [
    "# calculate p-value\n",
    "# multiply by 2 because we're using a two-tailed test.\n",
    "\n",
    "2*pt(t_obs, df = dof, lower.tail = FALSE)"
   ]
  },
  {
   "cell_type": "code",
   "execution_count": null,
   "metadata": {},
   "outputs": [],
   "source": [
    "# confirm results using the t.test function\n",
    "t.test(cah_oct$income, mu = mu_inc)"
   ]
  },
  {
   "cell_type": "code",
   "execution_count": null,
   "metadata": {},
   "outputs": [],
   "source": [
    "t5 <- t4 + geom_vline(xintercept = t_obs, color = \"#66ff33\", size = 2)\n",
    "t5"
   ]
  },
  {
   "cell_type": "markdown",
   "metadata": {},
   "source": [
    "### Conceptual t-test Example - Conclusion\n",
    "Our sample mean was $74,710.  \n",
    "\n",
    "It was not significantly different from the population mean of $72,641.  \n",
    "\n",
    "The t-score associated with the sample mean is 0.56, which does not exceed -/+ 1.97 (critical t-score for a two-tailed test at alpha = 0.05), therefore we fail to reject null.  \n",
    "\n",
    "The p-value for the t-test is 0.57, which is higher than alpha = 0.05, so we fail to reject null, the mean of the sample is not significantly different from the population mean."
   ]
  },
  {
   "cell_type": "code",
   "execution_count": null,
   "metadata": {},
   "outputs": [],
   "source": [
    "### THIS OPTION IS SIZING FOR JUPYTER NOTEBOOK ONLY\n",
    "options(repr.plot.width  = 16, repr.plot.height = 6)\n",
    "#####\n",
    "\n",
    "grid.arrange(z5, t5, ncol=2)"
   ]
  },
  {
   "cell_type": "markdown",
   "metadata": {},
   "source": [
    "## One-sample t-test of Proportions - Conceptual Example\n",
    "We're going to also look at a one-sample t-test of proportions (a percentage).  In order to do this I'm going to take the trumpvader variable - \"Who would you prefer as president of the United States, Darth Vader or Donald Trump?\" - and create a 0/1 variable that indicates whether or not a person prefers Darth Vader.  Respondents who prefer Vader are given a value of 1 and those that prefer Trump are given a value of 0.  \n",
    "\n",
    "From this we can use the same t-test setup where the mean is the proportion of individuals that support vader. p is the population proportion and $\\bar{p}$ (p_bar) is the sample proportion.\n",
    "\n",
    "# $t = \\frac{\\bar{p} - p}{s_p}$ \n",
    "\n",
    "The only difference is in how we calculate the sample standard error:\n",
    "\n",
    "## $s_p = \\sqrt{\\frac{p(p-1)}{n}}$ \n",
    "\n",
    "What population proportion would you expect?"
   ]
  },
  {
   "cell_type": "code",
   "execution_count": null,
   "metadata": {},
   "outputs": [],
   "source": [
    "# data cleaning to create prefvader variable\n",
    "cah2 <- cah_oct %>% filter(trumpvader != \"DK/REF\") %>% mutate(prefvader = ifelse(trumpvader == \"Darth Vader\", 1, 0))"
   ]
  },
  {
   "cell_type": "code",
   "execution_count": null,
   "metadata": {},
   "outputs": [],
   "source": [
    "#population proportion\n",
    "p_pop <- .4 ### NEED TO SET THIS\n",
    "p_pop\n",
    "#sample proportion\n",
    "p_samp <- mean(cah2$prefvader)\n",
    "p_samp\n",
    "#sample standard error\n",
    "sampse_vader <- sqrt((p_samp*(1-p_samp))/nrow(cah2))\n",
    "sampse_vader"
   ]
  },
  {
   "cell_type": "code",
   "execution_count": null,
   "metadata": {},
   "outputs": [],
   "source": [
    "# calculate t-value\n",
    "t_obs_p <- (p_samp - p_pop) / sampse_vader\n",
    "t_obs_p"
   ]
  },
  {
   "cell_type": "code",
   "execution_count": null,
   "metadata": {},
   "outputs": [],
   "source": [
    "# obtain t-crit\n",
    "dof <- nrow(cah2)\n",
    "tcrit_p <- qt(0.025, df = dof)\n",
    "tcrit_p"
   ]
  },
  {
   "cell_type": "code",
   "execution_count": null,
   "metadata": {},
   "outputs": [],
   "source": [
    "# obtain p-value, again we need to multiply by 2 because we are doing a two-tailed test.\n",
    "2*pt(t_obs_p, df = dof, lower.tail = FALSE) ### CHECK TAIL"
   ]
  },
  {
   "cell_type": "code",
   "execution_count": null,
   "metadata": {},
   "outputs": [],
   "source": [
    "# confirm results with t.test()\n",
    "t.test(cah2$prefvader, mu = p_pop)"
   ]
  },
  {
   "cell_type": "code",
   "execution_count": null,
   "metadata": {},
   "outputs": [],
   "source": [
    "### THIS OPTION IS SIZING FOR JUPYTER NOTEBOOK ONLY\n",
    "options(repr.plot.width  = 8, repr.plot.height = 6)\n",
    "##### \n",
    "ggplot(data.frame(t = c(-6, 6)), aes(x = t)) + \n",
    "      stat_function(fun = dt, args = list(0.05,df = dof)) +\n",
    "      labs(y = \"\", title = \"DISTRIBUTION IF NULL IS TRUE\")+\n",
    "      scale_y_continuous(breaks = NULL, expand = c(0,0)) + theme(text = bold.14.text) +\n",
    "      stat_function(fun = dt, args = list(0.05, df = dof), \n",
    "                    xlim = c(-6,tcrit_p), geom = \"area\", alpha=0.2, fill = \"#00bcd9\")+\n",
    "      stat_function(fun = dt, args = list(0.05, df = dof), \n",
    "                    xlim = c(-tcrit_p,6), geom = \"area\", alpha=0.2, fill = \"#00bcd9\") +\n",
    "      annotate(geom=\"text\", x=0, y=.05, label=paste0(\"Pop. Prop. = \\n\", p_pop),\n",
    "               color = \"#4d004d\", size = 5) + \n",
    "      geom_vline(xintercept = t_obs_p, color = \"#66ff33\", size = 2) +\n",
    "      annotate(geom=\"text\", x= t_obs_p , y=.1, label=paste0(\"Observed t = \", round(t_obs_p, digits = 2)),\n",
    "               color = \"#4d004d\", size = 5) "
   ]
  },
  {
   "cell_type": "markdown",
   "metadata": {},
   "source": [
    "### Conceptual t-test of Proportions Example - Conclusion\n",
    "\n",
    "About 41% of sampled individuals supported Vader over Trump.\n",
    "\n",
    "How did our hypothesized population proportion compare?\n"
   ]
  },
  {
   "cell_type": "code",
   "execution_count": null,
   "metadata": {},
   "outputs": [],
   "source": []
  }
 ],
 "metadata": {
  "kernelspec": {
   "display_name": "R",
   "language": "R",
   "name": "ir"
  },
  "language_info": {
   "codemirror_mode": "r",
   "file_extension": ".r",
   "mimetype": "text/x-r-source",
   "name": "R",
   "pygments_lexer": "r",
   "version": "3.6.1"
  }
 },
 "nbformat": 4,
 "nbformat_minor": 2
}
