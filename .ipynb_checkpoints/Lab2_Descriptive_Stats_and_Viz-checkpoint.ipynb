{
 "cells": [
  {
   "cell_type": "markdown",
   "metadata": {},
   "source": [
    "# Lab 2: Descriptive Statistics and Visualization\n",
    "In this lab we will look at different ways to explore our sample data and get a feel for the distribution of our variables.  \n",
    "\n",
    "The lab will start with a brief rundown of functions for common descriptive statistics.  The bulk of the lab will focus on using ggplot2 to create a variety of charts and graphs that will be relevant as we move forward in this course.\n",
    "\n",
    "- [Descriptive Statistics](#desc)\n",
    "    - [Univariate](#uni)\n",
    "    - [Bivariate](#bistat)\n",
    "- [Vizualizations](#viz)\n",
    "    - [Histogram](#hist)\n",
    "    - [Bar Chart](#bar)\n",
    "    - [Boxplot](#box)\n",
    "    - [Grouped Boxplot](#gbox)\n",
    "    - [Grouped Means Plot](#gmean)\n",
    "    - [Scatterplot](#scatter)\n",
    "    - [Basic Customization](#cust)"
   ]
  },
  {
   "cell_type": "code",
   "execution_count": null,
   "metadata": {},
   "outputs": [],
   "source": [
    "#load packages\n",
    "library(tidyverse) # includes ggplot2\n",
    "library(magrittr) # so I can use the assignment pipe operator ( %<>% )\n",
    "library(sjPlot)\n",
    "##ggpubr?\n",
    "##GGally?"
   ]
  },
  {
   "cell_type": "markdown",
   "metadata": {},
   "source": [
    "In this lab I'm going to use polling data collected by the creators of the card came Cards Against Humanity - https://thepulseofthenation.com/#the-poll.  There are a mix of serious and silly questions. This particular poll is from September 2017.\n",
    "\n",
    "Because they have labeled the variables with the full questions the first thing I'm going to do is relabel the variables with shorter names for use inside the coding.  Never use variable names that are full sentences with spaces, it's just an invitation for trouble (and a lot of typing)."
   ]
  },
  {
   "cell_type": "code",
   "execution_count": null,
   "metadata": {},
   "outputs": [],
   "source": [
    "#load data\n",
    "\n",
    "cah_poll <- read_csv('201709-CAH_PulseOfTheNation_Raw.csv')\n",
    "head(cah_poll)"
   ]
  },
  {
   "cell_type": "code",
   "execution_count": null,
   "metadata": {},
   "outputs": [],
   "source": [
    "#view colnames\n",
    "colnames(cah_poll)"
   ]
  },
  {
   "cell_type": "code",
   "execution_count": null,
   "metadata": {},
   "outputs": [],
   "source": [
    "#rename columns\n",
    "new_names <- c(\"income\", \"gender\", \"age\", \"age_cat\", \"polaffil\", \"apptrump\", \"educ\", \"race\", \"marital\", \"robots\",\n",
    "              \"climate\", \"transformers\", \"sci_good\", \"vaccines\", \"books\", \"ghosts\", \"fedbudget\", \"fedfundsci\", \"earthsun\",\n",
    "              \"smartdumb\", \"urinate\")\n",
    "colnames(cah_poll) <- new_names\n",
    "glimpse(cah_poll)"
   ]
  },
  {
   "cell_type": "markdown",
   "metadata": {},
   "source": [
    "### Data Cleaning\n",
    "I'm going to run through some quick data cleaning.  I will include the code here for your reference, but not explain it in detail.  You can refer to the Lab 1 notebook for explanations of these functions in more detail."
   ]
  },
  {
   "cell_type": "code",
   "execution_count": null,
   "metadata": {},
   "outputs": [],
   "source": [
    "## summary for numerical variables\n",
    "summary(select_if(cah_poll, is.numeric))"
   ]
  },
  {
   "cell_type": "code",
   "execution_count": null,
   "metadata": {},
   "outputs": [],
   "source": [
    "## so I'm not losing observations I'm going to impute the numerical variables.  \n",
    "## Most I will use median/mean imputation, but for transformers movies I'm going to impute 0.\n",
    "\n",
    "# note, I'm overwriting my df and my variables here, If I make a mistake I'll need to reload my data!\n",
    "cah_poll  %<>% ## assignment pipe!\n",
    "    mutate(income = if_else(is.na(income), median(income, na.rm = TRUE), income),\n",
    "          transformers = if_else(is.na(transformers), 0, transformers),\n",
    "          books = if_else(is.na(books), median(books, na.rm = TRUE), books),\n",
    "          fedbudget = if_else(is.na(fedbudget), median(fedbudget, na.rm = TRUE), fedbudget)) \n",
    "\n",
    "\n",
    "# if_else() is a helpful compact way to use an if statement inside mutate (although you can technically use it other places)\n",
    "# if_else(logical statement, value if TRUE, value if FALSE)\n",
    "# in this case if the variable is NA I'm assigning it the mean/median, otherwise i'll just use the existing value of that variable"
   ]
  },
  {
   "cell_type": "code",
   "execution_count": null,
   "metadata": {},
   "outputs": [],
   "source": [
    "# make all chr variables factors\n",
    "cah_poll %<>% mutate_if(is.character, as.factor)\n",
    "summary(select_if(cah_poll, is.factor))\n"
   ]
  },
  {
   "cell_type": "code",
   "execution_count": null,
   "metadata": {},
   "outputs": [],
   "source": [
    "# only 2 DK/REF on gender, so I'm going to subset the df to not include those obs\n",
    "cah_poll %<>% filter(gender != \"DK/REF\")\n",
    "cah_poll$gender <- droplevels(cah_poll$gender)\n",
    "summary(cah_poll$gender)"
   ]
  },
  {
   "cell_type": "markdown",
   "metadata": {},
   "source": [
    "<a id=\"desc\"></a>\n",
    "## Descriptive Statistics\n",
    "I'll briefly run through first univariate then bivariate descriptive statistics.  Descriptive statistics describe our sample, but are not meant for inference to the population (those are inferential statistics)\n",
    "\n",
    "<a id=\"uni\"></a>\n",
    "## Univariate\n",
    "### Categorical Variables\n",
    "For categorical variables, we typically look at frequencies and/or percentages to get a feel for the distribution of our variable.  There are a number of ways you've seen that you can do this, with table(), summary(), and with count().  I'm going to use summarize to create a table that has both frequencies and percentages."
   ]
  },
  {
   "cell_type": "code",
   "execution_count": null,
   "metadata": {},
   "outputs": [],
   "source": [
    "## frequency table - do you beleive in ghosts?\n",
    "cah_poll  %>% mutate(ghosts = fct_infreq(ghosts)) %>% \n",
    "              group_by(ghosts)  %>% \n",
    "              summarize(frequency = n(),\n",
    "                        percentage = n()/dim(cah_poll)[1]*100)"
   ]
  },
  {
   "cell_type": "markdown",
   "metadata": {},
   "source": [
    "### Numerical Variables\n",
    "We learned in the last lab that we can get a summary of the major descriptive statistics (mean, median, min, max, 25% percentile, and 75% percentile) using summary()"
   ]
  },
  {
   "cell_type": "code",
   "execution_count": null,
   "metadata": {},
   "outputs": [],
   "source": [
    "summary(cah_poll$income)"
   ]
  },
  {
   "cell_type": "markdown",
   "metadata": {},
   "source": [
    "There are also individual functions that may come in handy:"
   ]
  },
  {
   "cell_type": "code",
   "execution_count": null,
   "metadata": {},
   "outputs": [],
   "source": [
    "#mean\n",
    "mean(cah_poll$income)"
   ]
  },
  {
   "cell_type": "code",
   "execution_count": null,
   "metadata": {},
   "outputs": [],
   "source": [
    "#median\n",
    "median(cah_poll$income)"
   ]
  },
  {
   "cell_type": "code",
   "execution_count": null,
   "metadata": {},
   "outputs": [],
   "source": [
    "# there is no built-in function for mode, but we can define our own\n",
    "get_mode <- function(v) {\n",
    "    unique_value <- unique(v)\n",
    "    unique_value[which.max(tabulate(match(v, unique_value)))]\n",
    "}\n",
    "get_mode(cah_poll$income)"
   ]
  },
  {
   "cell_type": "code",
   "execution_count": null,
   "metadata": {},
   "outputs": [],
   "source": [
    "#variance\n",
    "var(cah_poll$income)"
   ]
  },
  {
   "cell_type": "code",
   "execution_count": null,
   "metadata": {},
   "outputs": [],
   "source": [
    "# standard deviation\n",
    "sd(cah_poll$income)"
   ]
  },
  {
   "cell_type": "code",
   "execution_count": null,
   "metadata": {},
   "outputs": [],
   "source": [
    "#range/min/max\n",
    "min(cah_poll$income)\n",
    "max(cah_poll$income)\n",
    "range(cah_poll$income)\n",
    "\n",
    "#if I want to see max without scientific notation\n",
    "format(max(cah_poll$income), scientific=F) # note, this returns a string, not a number"
   ]
  },
  {
   "cell_type": "code",
   "execution_count": null,
   "metadata": {},
   "outputs": [],
   "source": [
    "#percentiles\n",
    "# summary prints 25th, 50th (median), and 75th by default\n",
    "# you can get any percentile you want with the quantile function\n",
    "quantile(cah_poll$income, c(.10, .20, .25, .32, .57, .75, .98)) "
   ]
  },
  {
   "cell_type": "code",
   "execution_count": null,
   "metadata": {},
   "outputs": [],
   "source": [
    "#IQR - interquartile range\n",
    "IQR(cah_poll$income) ## the IQR of income is zero because 25th and 75th percentile are identical\n",
    "print(\"---------------\")\n",
    "IQR(cah_poll$books)"
   ]
  },
  {
   "cell_type": "markdown",
   "metadata": {},
   "source": [
    "<a id=\"bistat\"></a>\n",
    "## Bivariate Statistics \n",
    "Bivariate Statistics are statistics that include two variables.  Multivariate statistics include two or more variables.\n",
    "\n",
    "### Categorical\n",
    "Similar to the frequency table above, we can obtain frequency tables that reflect the intersection of two variables.\n",
    "\n",
    "I'm going to create a two-way table of the two questions:\n",
    "'Do you agree or disagree with the following statement: scientists are generally honest and are serving the public good.' \n",
    "'Do you agree or disagree with the following statement: vaccines are safe and protect children from disease.'"
   ]
  },
  {
   "cell_type": "code",
   "execution_count": null,
   "metadata": {},
   "outputs": [],
   "source": [
    "table(cah_poll$sci_good, cah_poll$vaccines)"
   ]
  },
  {
   "cell_type": "markdown",
   "metadata": {},
   "source": [
    "The long factor labels make the table a bit hard to read."
   ]
  },
  {
   "cell_type": "code",
   "execution_count": null,
   "metadata": {},
   "outputs": [],
   "source": [
    "## as.data.frame.matrix() let's us make the table mor attactive\n",
    "as.data.frame.matrix(table(cah_poll$sci_good, cah_poll$vaccines)) "
   ]
  },
  {
   "cell_type": "code",
   "execution_count": null,
   "metadata": {},
   "outputs": [],
   "source": [
    "t <- as.data.frame.matrix(table(cah_poll$sci_good, cah_poll$vaccines))\n",
    "stargazer(t,type=\"text\")"
   ]
  },
  {
   "cell_type": "code",
   "execution_count": null,
   "metadata": {},
   "outputs": [],
   "source": [
    "    - [Bivariate](#bistat)\n",
    "- [Vizualizations](#viz)\n",
    "    - [Histogram](#hist)\n",
    "    - [Bar Chart](#bar)\n",
    "    - [Boxplot](#box)\n",
    "    - [Grouped Boxplot](#gbox)\n",
    "    - [Grouped Means Plot](#gmean)\n",
    "    - [Scatterplot](#scatter)\n",
    "    - [Basic Customization](#cust)"
   ]
  },
  {
   "cell_type": "code",
   "execution_count": null,
   "metadata": {},
   "outputs": [],
   "source": [
    "correlation\n",
    "two-way table\n",
    "multi-way table\n",
    "grouped statisics"
   ]
  },
  {
   "cell_type": "code",
   "execution_count": null,
   "metadata": {},
   "outputs": [],
   "source": [
    "histogram\n",
    "skewness\n",
    "kurtosis\n",
    "barchart\n",
    "boxplot\n",
    "groupedmeans\n",
    "scatterplot\n",
    "with line\n"
   ]
  }
 ],
 "metadata": {
  "kernelspec": {
   "display_name": "R",
   "language": "R",
   "name": "ir"
  },
  "language_info": {
   "codemirror_mode": "r",
   "file_extension": ".r",
   "mimetype": "text/x-r-source",
   "name": "R",
   "pygments_lexer": "r",
   "version": "3.6.1"
  }
 },
 "nbformat": 4,
 "nbformat_minor": 2
}
