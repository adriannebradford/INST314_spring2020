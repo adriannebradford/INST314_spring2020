{
 "cells": [
  {
   "cell_type": "markdown",
   "metadata": {},
   "source": [
    "# Lab 2.5: Creating Publication Quality (PQ) Output\n",
    "In this lab we will will build on our previous lab in which we looked at descriptive statistics and visualizations looking specifically at how to generate or convert these tables and graphs into PQ output.  For your projects this semester all charts and graphs and tables will need to be PQ.  \n",
    "\n",
    "- [Descriptive Statistics](#desc)\n",
    "    - [Frequency Tables - Categorical Variables](#freq)\n",
    "        - [One-way Table](#freq)\n",
    "        - [Two-way Table](#twoway)\n",
    "    - [Summary Statistics - Numerical Variables](#numsum)\n",
    "- [Vizualizations - ggplot2](#viz)"
   ]
  },
  {
   "cell_type": "code",
   "execution_count": null,
   "metadata": {},
   "outputs": [],
   "source": [
    "#load packages\n",
    "library(tidyverse) # includes ggplot2\n",
    "library(magrittr) # so I can use the assignment pipe  %<>% \n",
    "library(ggpubr) # containes line/dot plot for visualizing means\n",
    "\n",
    "#install.packages(\"flextable\") \n",
    "library(flextable) ## generates PQ frequency/summary tables in .doc or picture format\n",
    "\n",
    "#install.packages(\"sjPlot\")\n",
    "library(sjPlot) ## PQ two-way/contingency table\n",
    "\n",
    "#install.packages(\"stargazer\")\n",
    "library(stargazer) # PQ numerical summary stats\n",
    "\n",
    "## installations required to save flextables and ggplot2 objects as imgs\n",
    "library(webshot)\n",
    "#install.packages(\"webshot\")\n",
    "#webshot::install_phantomjs()\n"
   ]
  },
  {
   "cell_type": "markdown",
   "metadata": {},
   "source": [
    "In this lab I'm going to again use polling data collected by the creators of the card came Cards Against Humanity - https://thepulseofthenation.com/#the-poll.  There are a mix of serious and silly questions. This particular poll is from September 2017.\n",
    "\n",
    "See Lab 2 for data cleaning steps.  I've saved that cleaned df as an .rds file that I'm going to directly load here."
   ]
  },
  {
   "cell_type": "code",
   "execution_count": null,
   "metadata": {},
   "outputs": [],
   "source": [
    "#load data\n",
    "cah_poll <- readRDS('cahpoll9.rds')\n",
    "\n",
    "#inspect df to make sure it's loaded correctly\n",
    "glimpse(cah_poll)\n",
    "head(cah_poll)"
   ]
  },
  {
   "cell_type": "markdown",
   "metadata": {},
   "source": [
    "<a id=\"desc\"></a>\n",
    "## Descriptive Statistics \n",
    "We'll look at ways to create PQ tables to display basic descriptive statistics of our variables.\n",
    "\n",
    "We'll look at frequency tables for categorical variables (both one-way and two-way).  Two-way frequency tables are often call cross tabs or contingency tables.\n",
    "\n",
    "For numerical variables we'll cover PQ tables that list summary statistics (mean, median, quartiles, min, max, etc.) for your numerical variable(s) of interest.\n",
    "\n",
    "<a id=\"freq\"></a>\n",
    "### Categorical Variables - Frequency Tables\n",
    "We'll start with a one-way basic frequency table.  There are a number of ways we can create this, using count() or table() is most common.\n",
    "\n",
    "#### One-way Frequency Table\n",
    "A one-way table lists the frequencies (counts) of observations for each level of one categorical/factor variable.  We'll create a frequency table of the variable sci_good using group_by() and summarize() from dplyr.  A good PQ table will include both frequencies and percentages."
   ]
  },
  {
   "cell_type": "code",
   "execution_count": null,
   "metadata": {},
   "outputs": [],
   "source": [
    "# create table and print to screen to inspect\n",
    "#using syntax:\n",
    "# dfname  %>% group_by(variablename) %>% \n",
    "#             summarize(Frequency = n(),\n",
    "#                       Percentage = n() / dim(df)[1]) ## dim(df)[1] is the overall number of rows in your df\n",
    "\n",
    "cah_poll %>% group_by(sci_good) %>% \n",
    "             summarize(Frequency = n(), ## Note that I'm making my summary vars PQ quality names because these will be the column headings\n",
    "                       Percentage = n() / dim(cah_poll)[1])"
   ]
  },
  {
   "cell_type": "markdown",
   "metadata": {},
   "source": [
    "This looks like it is generating the right output (the counts of observations in each category of sci_good) but to make it PQ I need to reorder my factor levels so that they are in an appropriate order.  In this case I want the values in order for the range of Somewhat Agree to Somewhat Disagree.  If I want to keep DK/REF as a level I need to relabel it with a PQ descriptive name and include it at the end of the table.  \n",
    "\n",
    "Note that your levels must have descriptive names in order to be PQ.  For example, the label \"nhwhite\" for a race variable would not be PQ, it should be listed as \"White, non-hispanic.\" (this is a real race category from US gov't surveys, FYI)\n",
    "\n",
    "I'm going to do the re-labeling of the DK/REF level, the re-ordering of the factors, create the final freq table and save it as an object.  I'm also going to convert the numerical proportions in the Percentage column to strings that represent the percentages formatted with % and rounding to one decimal place.\n",
    "\n",
    "Note, creating the table in this way creates a df object.  Do not overwrite your df containing your individual observations with your frequency table, save it with a different object name."
   ]
  },
  {
   "cell_type": "code",
   "execution_count": null,
   "metadata": {},
   "outputs": [],
   "source": [
    "## note - I'm not making these adjustments to the underlying dataset, I'm only making them as I'm building the table\n",
    "## I'm doing this all in one statement/pipe but I'm putting comments between lines\n",
    "\n",
    "sci_good_table <- #save the resulting table object\n",
    "    cah_poll %>% # start with the df with the observations\n",
    "# relabel DK/REF - we have to use fct_ functions within mutate because we're editing one variable inside a df\n",
    "    mutate(sci_good = fct_recode(sci_good, \"Don't Know or Refused\" = \"DK/REF\")) %>% \n",
    "# reorder factor levels - again I need to do this inside mutate\n",
    "    mutate(sci_good = fct_relevel(sci_good, \"Strongly Agree\", \"Somewhat Agree\", \"Neither Agree nor Disagree\", \n",
    "                                             \"Somewhat Disagree\", \"Strongly Disagree\"))  %>% \n",
    "# create table\n",
    "    group_by(sci_good) %>% \n",
    "    summarize(Frequency = n(), ## Note that I'm making my summary vars PQ quality names because these will be the column headings\n",
    "              Percentage = n() / dim(cah_poll)[1])  %>% \n",
    "# format percentages - now I'm using mutate on the df that resulted from the summarize statement.  \n",
    "# This needs to be done after creating the table but still in the same pipe.  We're passing forward a df in it's current state\n",
    "# in the create table step we're creating a different df from our df of observations and that is now the df passed forward\n",
    "    mutate(Percentage = paste0(format(Percentage * 100, digits = 2), \"%\")) # multplying by 100 and keeping one decimal place / 2 sig digits\n",
    "    # paste0 is used to add % to the end of the number\n",
    "\n",
    "#inspect resulting table / df\n",
    "sci_good_table"
   ]
  },
  {
   "cell_type": "markdown",
   "metadata": {},
   "source": [
    "Now that we have the information in a table format we want, we can proceed to \"prettify\" our table for output to a paper.\n",
    "\n",
    "We'll use the package `flextable` for this. https://davidgohel.github.io/flextable/"
   ]
  },
  {
   "cell_type": "code",
   "execution_count": null,
   "metadata": {},
   "outputs": [],
   "source": [
    "flextable(sci_good_table)"
   ]
  },
  {
   "cell_type": "markdown",
   "metadata": {},
   "source": [
    "First, a note, if you run this code in RStudio in an .rmd you will get a preview of the formatted table in the \"Viewer\" pane.  This doesn't occur within jupyter, we're instead seeing the underlying structure of the \"flextable\" object.\n",
    "\n",
    "This, just passing our df to the flextable() function creates the most basic flextable with default options.  When I ran this code in RStudio I ended up with something that needs a bit of customization:\n",
    "\n",
    "<img src=\"pqimages/flex1.jpeg\" height = '50'>\n",
    "\n",
    "The first and most important thing I need to do has nothing to do with the table formatting - I need to relabel the first column \"sci_good\" with a descriptive name.  I'm going to do this in the df before creating the flex table"
   ]
  },
  {
   "cell_type": "code",
   "execution_count": null,
   "metadata": {},
   "outputs": [],
   "source": [
    "# using vector index [1] to access only the first column name of the df sci_good_table\n",
    "colnames(sci_good_table)[1] <- \"Response\""
   ]
  },
  {
   "cell_type": "markdown",
   "metadata": {},
   "source": [
    "I get: \n",
    "<img src=\"pqimages/ft2.PNG\" height = '50'>\n",
    "\n",
    "Now I need to autofit the table to the contents to make the table more attractive and readable"
   ]
  },
  {
   "cell_type": "code",
   "execution_count": null,
   "metadata": {},
   "outputs": [],
   "source": [
    "## create flextable object and save it as base_table\n",
    "base_table <- flextable(sci_good_table)\n",
    "\n",
    "# use autofit() on the base_table object\n",
    "autofit(base_table)"
   ]
  },
  {
   "cell_type": "markdown",
   "metadata": {},
   "source": [
    "We now have a good basic structure. \n",
    "<img src=\"pqimages/ft3.PNG\" height = '50'>\n",
    "\n",
    "Time to add a title."
   ]
  },
  {
   "cell_type": "code",
   "execution_count": null,
   "metadata": {},
   "outputs": [],
   "source": [
    "base_table <- flextable(sci_good_table)\n",
    "\n",
    "bt2 <- autofit(base_table)\n",
    "add_header_lines(bt2, \"Table 1: Scientists are honest and serving public good\")"
   ]
  },
  {
   "cell_type": "markdown",
   "metadata": {},
   "source": [
    "We're getting close to a PQ table.  I also want to alter the justification for the columns of values.\n",
    "\n",
    "This is current state:\n",
    "<img src=\"pqimages/ft4.PNG\" height = '50'>\n"
   ]
  },
  {
   "cell_type": "code",
   "execution_count": null,
   "metadata": {},
   "outputs": [],
   "source": [
    "# create base_table\n",
    "base_table <- flextable(sci_good_table)\n",
    "# autofit and save as bt2\n",
    "bt2 <- autofit(base_table)\n",
    "# add title, save as bt3\n",
    "bt3 <- add_header_lines(bt2, \"Table 1: Scientists are honest and serving public good\")\n",
    "# align numerical columns, save as bt4\n",
    "# align can equal \"center\" \"left\" or \"right\"\n",
    "# part = \"all\" to do the action on the entire table\n",
    "# j = 2:3 indicates I only want to align the 2nd and 3rd columns. \n",
    "bt4 <- align(bt3, align = \"center\", part = \"all\", j = 2:3)\n",
    "bt4"
   ]
  },
  {
   "cell_type": "markdown",
   "metadata": {},
   "source": [
    "Rendered in RStudio this looks like:\n",
    "<img src=\"pqimages/ft5.PNG\" height = '50'>\n",
    "\n",
    "I now need to save this object in a way that I can include it in my paper.  I can do this either as a picture file or in .doc (Microsoft Word) format.  First, this is the image that will be saved, rendered as an R \"plot.\""
   ]
  },
  {
   "cell_type": "code",
   "execution_count": null,
   "metadata": {},
   "outputs": [],
   "source": [
    "## plot is a way to render the image as an internal R image object - \n",
    "## this will not save it to your computer as an image\n",
    "## this is how the plot will appear when saved.  As you can see it's slightly better than the RStudio preview\n",
    "plot(bt4)"
   ]
  },
  {
   "cell_type": "markdown",
   "metadata": {},
   "source": [
    "### SAVE AS IMAGE\n",
    "\n",
    "To save a flexable as an img you need to install `phantomjs` and `webshot`.  "
   ]
  },
  {
   "cell_type": "code",
   "execution_count": null,
   "metadata": {},
   "outputs": [],
   "source": [
    "## SAVE AS IMG FILE\n",
    "\n",
    "save_as_image(bt4, path = \"sci_good_table.png\") ## need an img extension, .png"
   ]
  },
  {
   "cell_type": "markdown",
   "metadata": {},
   "source": [
    "I can print this table here in the markdown block to show you the saved image (which will need to be sized to fit appropriately in your document):\n",
    "\n",
    "![](sci_good_table.png)\n",
    "\n",
    "\n",
    "### SAVE AS A MICROSOFT WORD DOCX\n"
   ]
  },
  {
   "cell_type": "code",
   "execution_count": null,
   "metadata": {},
   "outputs": [],
   "source": [
    "## SAVE AS .DOCX\n",
    "save_as_docx(bt4, path = \"sci_good_tab.docx\")"
   ]
  },
  {
   "cell_type": "markdown",
   "metadata": {},
   "source": [
    "Running that code won't output anyting in RStudio, but you should now have a docx file by the name you selected in `path = ` in your working directory.  Remember if you don't know what your working directory is (where you are in the file structure of your computer) you can run `getwd()`\n",
    "\n",
    "#### More customizations\n",
    "Flextable documentation is available here - https://davidgohel.github.io/flextable/\n",
    "There are multiple other options and customizations you can make to your tables.\n",
    "\n",
    "<a id = \"twoway\"></a>\n",
    "### Two-way Frequency Table\n",
    "I'll quickly show you how to make a crosstab / contingency table / two-way table.  For this we'll use `tab_xtab()` from the `sjPlot` package. http://www.strengejacke.de/sjPlot/"
   ]
  },
  {
   "cell_type": "code",
   "execution_count": null,
   "metadata": {},
   "outputs": [],
   "source": [
    "## adjust factor labels\n",
    "cp2 <- cah_poll %>% ## create new clean version for this table\n",
    "    mutate(sci_good = fct_recode(sci_good, \"Don't Know or Refused\" = \"DK/REF\")) %>% \n",
    "    mutate(robots = fct_recode(robots, \"Don't Know or Refused\" = \"DK/REF\")) %>% \n",
    "    mutate(sci_good = fct_relevel(sci_good, \"Strongly Agree\", \"Somewhat Agree\", \"Neither Agree nor Disagree\", \n",
    "                                  \"Somewhat Disagree\", \"Strongly Disagree\"))  %>% \n",
    "    mutate(robots = fct_infreq(robots))\n",
    "\n",
    "\n",
    "## create two way table\n",
    "tab_xtab(var.row = cp2$sci_good, ## variable that makes up the rows\n",
    "         var.col = cp2$robots,  ### variable that makes up the columns\n",
    "         ### specify descriptive overall table title\n",
    "         title = \"Table #: Opinion on whether scientists are good versus likelihood of robots taking over R's job\",\n",
    "         ## specify variable labels in order of row then column (as a vector of strings)\n",
    "         var.labels = c(\"Scientists are good\", \"Robots will take over job\"),\n",
    "         show.cell.prc = TRUE, ## show percentages in the cells\n",
    "         show.summary = FALSE ### don't show overall summary - this is stuff we'll need when we get to chi-square but not now\n",
    "         )\n",
    "         "
   ]
  },
  {
   "cell_type": "markdown",
   "metadata": {},
   "source": [
    "When I run this in jupyter it pops up the result in a new browser window.  You will see your result in your \"Viewer\" pane in RStudio.  It looks like this:\n",
    "\n",
    "<img src=\"pqimages/sj2.PNG\" height = '50'>\n",
    "\n",
    "### Saving your two-way contingency table\n",
    "\n",
    "sjPlot builds the tables using .html.  We can save that .html and use `webshot` to turn it into a picture.  For this you'll add the `file =` argument when making your tab and name the filename you want to save your table as.\n"
   ]
  },
  {
   "cell_type": "code",
   "execution_count": null,
   "metadata": {},
   "outputs": [],
   "source": [
    "## create two way table and save it\n",
    "tab_xtab(var.row = cp2$sci_good, \n",
    "         var.col = cp2$robots,  \n",
    "         title = \"Table #: Opinion on whether scientists are good versus likelihood of robots taking over R's job\",\n",
    "         var.labels = c(\"Scientists are good\", \"Robots will take over job\"),\n",
    "         show.cell.prc = TRUE, \n",
    "         show.summary = FALSE,\n",
    "         file = \"sci_robot_tab.html\" ## name of file, must end with html\n",
    "         )"
   ]
  },
  {
   "cell_type": "markdown",
   "metadata": {},
   "source": [
    "The file will be saved and nothing will print in RStudio, but if you go to your working directory on your computer you'll see that html file.  We can use webshot to convert it to a picture."
   ]
  },
  {
   "cell_type": "code",
   "execution_count": null,
   "metadata": {},
   "outputs": [],
   "source": [
    "### use webshot to convert html to img\n",
    "\n",
    "webshot(\"sci_robot_tab.html\", \"sci_robot_tab.png\")"
   ]
  },
  {
   "cell_type": "markdown",
   "metadata": {},
   "source": [
    "Now if you look in your working directory you will see a .png file that you can include in your Word document.  Make sure to resize it appropriately without distortion.  There is an option when resizing images in Microsoft Word that should be checked - \"lock aspect ratio.\"\n",
    "\n",
    "#### More customizations -\n",
    "For other options see the sjPlot documentation - https://strengejacke.github.io/sjPlot/"
   ]
  },
  {
   "cell_type": "markdown",
   "metadata": {},
   "source": [
    "<a id = \"numsum\"></a>\n",
    "### Summary Statistics - Numerical Variables\n",
    "Often we want to look at numerical descriptive statistics (mean, median) before we begin to work with our data.  We can build tables of these in PQ format using `stargazer`.\n",
    "\n",
    "I will show a basic layout/format here that is acceptable for PQ.  There are additional options you can review at https://cran.r-project.org/web/packages/stargazer/vignettes/stargazer.pdf or https://www.rdocumentation.org/packages/stargazer/versions/5.2.2/topics/stargazer"
   ]
  },
  {
   "cell_type": "code",
   "execution_count": null,
   "metadata": {},
   "outputs": [],
   "source": [
    "stargazer(as.data.frame(cah_poll), \n",
    "          #note you have to specify type html\n",
    "          type = \"html\",\n",
    "          #note that the argument is \"out\" not \"file\"\n",
    "          out = \"cah_numdesc.html\",\n",
    "          title = \"Table #: Summary Statistics of Numerical Variables\", # descriptive overall table title\n",
    "          # relabel variable names to descriptive names\n",
    "          covariate.labels = c(\"Income\", \"Age\", \"Transformers movies seen\", \n",
    "                               \"Books read this year\", \"Guess of % Fed Budget for science\"),\n",
    "          digits = 2) # round values to two decimal places"
   ]
  },
  {
   "cell_type": "markdown",
   "metadata": {},
   "source": [
    "The table is rendered in HTML, which I saved to a file called cah_numdesc.html using the \"out = \" argument.  I again use webshot to convert the table to an image."
   ]
  },
  {
   "cell_type": "code",
   "execution_count": null,
   "metadata": {},
   "outputs": [],
   "source": [
    "### use webshot to convert html to img\n",
    "\n",
    "webshot(\"cah_numdesc.html\", \"cah_numdesc.png\")"
   ]
  },
  {
   "cell_type": "markdown",
   "metadata": {},
   "source": [
    "I'll insert the picture in this markdown block so that you can see what it looks like when the html is rendered.\n",
    "\n",
    "![](cah_numdesc.png)"
   ]
  },
  {
   "cell_type": "markdown",
   "metadata": {},
   "source": [
    "#### Grouped Descriptive Statistics Tables\n",
    "We can also make the Grouped Descriptive Statistics Tables we've been generating PQ using flextable, the same way we made the frequency tables for categorical variables above, with group_by() and summarize()."
   ]
  },
  {
   "cell_type": "code",
   "execution_count": null,
   "metadata": {},
   "outputs": [],
   "source": [
    "# build the dataframe of summary data to pass to flextable\n",
    "## flextable takes a df and prints it, so it needs to be a df of the summaries\n",
    "\n",
    "urine_desc <- cah_poll  %>% \n",
    "    mutate(urinate = fct_infreq(urinate)) %>% ## ordering factor by frequency for this table\n",
    "    group_by(urinate)  %>% \n",
    "    summarize(Frequency = n(),\n",
    "              Mean = format(mean(age), digits = 4), \n",
    "              Median = median(age),\n",
    "              \"Std. Dev.\" = format(sd(age), digits = 4) )\n",
    "              ## if I want to have my column name have a space in it it needs to be in quotes \n",
    "colnames(urine_desc)[1] <- \"Response\""
   ]
  },
  {
   "cell_type": "code",
   "execution_count": null,
   "metadata": {},
   "outputs": [],
   "source": [
    "# create the flextable\n",
    "\n",
    "urine_flextab <- flextable(urine_desc)  %>% autofit()  %>% \n",
    "                    add_header_lines(\"Table #: Distribution of Age by Acceptability of Urinating in the Shower\") %>% \n",
    "                    align(align = \"center\", part = \"all\", j = 2:5)\n",
    "\n",
    "plot(urine_flextab)"
   ]
  },
  {
   "cell_type": "markdown",
   "metadata": {},
   "source": [
    "<a id=\"viz\"></a>\n",
    "## Visualizations\n",
    "Now we'll move onto making charts and graphs with ggplot2.  In this notebook I'll use one example plot and build it up from basic to fully customized item by item.  These customizations will work on any ggplot2 objects, including the ones created from ggpubr (the grouped mean plot).\n",
    "\n",
    "A common customization is to adjust colors.  Remember the colors can be specified using Hex Color Codes. https://www.hexcolortool.com/\n",
    "\n",
    "For this example I'm going to look at the distribution of the R's estimate of federal budget spent on scientific research by political party.\n"
   ]
  },
  {
   "cell_type": "code",
   "execution_count": null,
   "metadata": {},
   "outputs": [],
   "source": [
    "# edit factor levels of politcal party\n",
    "cah_poll %<>% #save changes overwriting cah_poll\n",
    "    mutate(polaffil = fct_recode(polaffil, \"Don't Know or Refused\" = \"DK/REF\")) %>% \n",
    "    mutate(polaffil = fct_relevel(polaffil, \"Democrat\", \"Independent\", \"Republican\"))"
   ]
  },
  {
   "cell_type": "code",
   "execution_count": null,
   "metadata": {},
   "outputs": [],
   "source": [
    "options(repr.plot.width=6, repr.plot.height=4) ## plot size options for Jupyter notebook ONLY\n",
    "\n",
    "#create base ggplot - grouped boxplot\n",
    "## note that I can save this base plot as a ggplot object. I'm going to call mine bp (for base plot)\n",
    "## I can then take that base plot and add other options to it without restating all of the plot setup\n",
    "bp <- cah_poll %>% ggplot(aes(x = polaffil, y = fedbudget, fill = polaffil)) +\n",
    "                geom_boxplot()\n",
    "\n",
    "bp ## print plot - when you save the plot it doesn't print to screen"
   ]
  },
  {
   "cell_type": "markdown",
   "metadata": {},
   "source": [
    "That is the most basic plot laying out our variables and the type of plot we want (the geom or geometry).  Now we'll add a customization that is vital to PQ format, custom descriptive labels and titles."
   ]
  },
  {
   "cell_type": "code",
   "execution_count": null,
   "metadata": {},
   "outputs": [],
   "source": [
    "bp2 <- bp + # start with saved base plot and add labels, save as bp2\n",
    "    labs(x = \"Political Affiliation\", y = \"Percent spent on research\", \n",
    "         title = \"Guess of Federal Budget Spent on Science by Political Affiliation\")\n",
    "\n",
    "bp2"
   ]
  },
  {
   "cell_type": "markdown",
   "metadata": {},
   "source": [
    "Now we have descriptive labels on everything but the Legend for the key of the different colors.  Because those colored bars are labeled on the x-axis we can suppress the legend from printing.  I'll start with bp2, the base ggplot + labels we just added, remove the legend and save it as bp3."
   ]
  },
  {
   "cell_type": "code",
   "execution_count": null,
   "metadata": {},
   "outputs": [],
   "source": [
    "bp3 <- bp2 +\n",
    "    theme(legend.position = \"none\") ## legend position = none removes legend.  It's part of the theme() setup of the plot\n",
    "bp3"
   ]
  },
  {
   "cell_type": "markdown",
   "metadata": {},
   "source": [
    "This would satisfy PQ at the lowest possible acceptable level, but there is so much more we could do.  In the next cells I'm going to progressively add additional customizations."
   ]
  },
  {
   "cell_type": "code",
   "execution_count": null,
   "metadata": {},
   "outputs": [],
   "source": [
    "## custom colors for box fills.\n",
    "\n",
    "bp4 <- bp3 +\n",
    "    scale_fill_manual(values=c(\"#0b5394\", \"#38761d\", \"#990000\", \"#741b47\")) #hex color codes\n",
    "\n",
    "# use scale_fill_manual when using fill in aes() use scale_color_manual when using color() in aes()\n",
    "\n",
    "bp4"
   ]
  },
  {
   "cell_type": "code",
   "execution_count": null,
   "metadata": {},
   "outputs": [],
   "source": [
    "# remove gridlines\n",
    "bp5 <- bp4 + \n",
    "    theme(panel.grid.major.x = element_blank(), ## supress vertical grids\n",
    "          panel.grid.minor.y = element_blank(), ## supress \"minor\" horiz grid - the ones not labeled\n",
    "          axis.ticks = element_blank()) ## suppress the little ticks between graph and label\n",
    "bp5\n"
   ]
  },
  {
   "cell_type": "code",
   "execution_count": null,
   "metadata": {},
   "outputs": [],
   "source": [
    "# adjust background color\n",
    "bp6 <- bp5 + theme(plot.background = element_rect(fill = \"#ffd966\"), ## the outside background\n",
    "             panel.background = element_rect(fill = \"#fce5cd\")) ## the background of the plotting area\n",
    "bp6"
   ]
  },
  {
   "cell_type": "markdown",
   "metadata": {},
   "source": [
    "We can also add other objects (geoms) to our graph.  I'm going to add a horizontal line that indicates the overall median, and a dot and text that displays the mean within each group."
   ]
  },
  {
   "cell_type": "code",
   "execution_count": null,
   "metadata": {},
   "outputs": [],
   "source": [
    "#geom_hline(yintercept, linetype, color, size)\n",
    "bp6 + \n",
    "    # add a line across the plot that indicates the overall median\n",
    "    geom_hline(yintercept = median(cah_poll$fedbudget), linetype = \"dashed\", color = \"#e69138\", size = 2) +\n",
    "    # add dots that indicate the group means\n",
    "    stat_summary(fun.y=mean, colour=\"#8e7cc3\", geom=\"point\", \n",
    "                 shape=\"circle\", size=3,show_guide = FALSE) +\n",
    "    # add text that indicate the group means\n",
    "    stat_summary(fun.y=mean, colour=\"#8e7cc3\", geom=\"text\", aes(label = round(..y.., digits=1)), \n",
    "                  vjust=0, hjust = -0.2, size = 4)"
   ]
  },
  {
   "cell_type": "markdown",
   "metadata": {},
   "source": [
    "#### Pre-set themes\n",
    "\n",
    "If you don't want to play around with each individual color yourself, you can use a preset theme from `ggthemes`.\n",
    "https://yutannihilation.github.io/allYourFigureAreBelongToUs/ggthemes/\n",
    "\n",
    "This theme is meant to look like the one used on the website fivethirtyeight.com"
   ]
  },
  {
   "cell_type": "code",
   "execution_count": null,
   "metadata": {},
   "outputs": [],
   "source": [
    "#install.packages(\"ggthemes\")\n",
    "library(ggthemes)\n",
    "cah_poll %>% ggplot(aes(x = polaffil, y = fedbudget, fill = polaffil)) +\n",
    "                geom_boxplot() + \n",
    "                theme_fivethirtyeight() +\n",
    "                labs(x = \"Political Affiliation\", y = \"Percent spent on research\", \n",
    "                title = \"Federal Budget Spent on Science by PartyID\") +\n",
    "                theme(legend.position = \"none\") "
   ]
  },
  {
   "cell_type": "markdown",
   "metadata": {},
   "source": [
    "## Saving a ggplot object\n",
    "As you learned in the second homework, we use `ggsave()` to save a ggplot object"
   ]
  },
  {
   "cell_type": "code",
   "execution_count": null,
   "metadata": {},
   "outputs": [],
   "source": [
    "# save the last plot you ran/created\n",
    "ggsave('lastplot.png')"
   ]
  },
  {
   "cell_type": "code",
   "execution_count": null,
   "metadata": {},
   "outputs": [],
   "source": [
    "# save a specific plot by plot object name\n",
    "ggsave(filename = \"boxplotsix.png\", plot = bp6)"
   ]
  },
  {
   "cell_type": "markdown",
   "metadata": {},
   "source": [
    "## YOUR TURN!\n",
    "Create one graph or table to visualize variable(s) in the cah_poll dataset that we have not yet looked at.  You can run glimpse() to remind you what variables are included in the df.  Customize the figure to PQ."
   ]
  },
  {
   "cell_type": "code",
   "execution_count": null,
   "metadata": {},
   "outputs": [],
   "source": []
  }
 ],
 "metadata": {
  "kernelspec": {
   "display_name": "R",
   "language": "R",
   "name": "ir"
  },
  "language_info": {
   "codemirror_mode": "r",
   "file_extension": ".r",
   "mimetype": "text/x-r-source",
   "name": "R",
   "pygments_lexer": "r",
   "version": "3.6.1"
  }
 },
 "nbformat": 4,
 "nbformat_minor": 2
}
