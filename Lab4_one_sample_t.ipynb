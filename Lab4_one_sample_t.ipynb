{
 "cells": [
  {
   "cell_type": "code",
   "execution_count": 47,
   "metadata": {},
   "outputs": [],
   "source": [
    "# LIBRARIES\n",
    "library(tidyverse)\n",
    "library(magrittr) ## for pipe operators\n",
    "library(pwr) ## for power function and ES.h (Cohen's h)\n",
    "library(scales) ## for scaling functions for ggplot2\n",
    "library(gridExtra) # two plots next to each other\n",
    "library(lsr) ## for Cohen's D\n",
    "library(grid)\n",
    "options(repr.plot.width  = 8,\n",
    "        repr.plot.height = 6)"
   ]
  },
  {
   "cell_type": "code",
   "execution_count": 21,
   "metadata": {},
   "outputs": [
    {
     "name": "stderr",
     "output_type": "stream",
     "text": [
      "Parsed with column specification:\n",
      "cols(\n",
      "  .default = col_character(),\n",
      "  `What is your age?` = \u001b[32mcol_double()\u001b[39m,\n",
      "  `About how much money do you make per year?` = \u001b[32mcol_double()\u001b[39m,\n",
      "  `If you had to guess, in dollars per hour, what do you think the federal minimum wage is?` = \u001b[32mcol_double()\u001b[39m,\n",
      "  `And in your opinion, in dollars per hour, what do you believe the federal minimum wage should be?` = \u001b[32mcol_double()\u001b[39m,\n",
      "  `If you had to guess, in percentage, what do you believe the federal tax rate is for individuals making more than 500 thousand dollars per year?` = \u001b[32mcol_double()\u001b[39m,\n",
      "  `And in your opinion, in percentage, what do you believe the federal tax rate should be for these individuals?` = \u001b[32mcol_double()\u001b[39m\n",
      ")\n",
      "\n",
      "See spec(...) for full column specifications.\n",
      "\n"
     ]
    },
    {
     "name": "stdout",
     "output_type": "stream",
     "text": [
      "Observations: 800\n",
      "Variables: 21\n",
      "$ gender         \u001b[3m\u001b[90m<chr>\u001b[39m\u001b[23m \"Female\", \"Male\", \"Female\", \"Male\", \"Male\", \"Female\"...\n",
      "$ age            \u001b[3m\u001b[90m<dbl>\u001b[39m\u001b[23m 70, 72, 82, 70, 65, 53, 63, 64, 64, 60, 66, 55, 89, ...\n",
      "$ agerange       \u001b[3m\u001b[90m<chr>\u001b[39m\u001b[23m \"65+\", \"65+\", \"65+\", \"65+\", \"65+\", \"45-54\", \"55-64\",...\n",
      "$ race           \u001b[3m\u001b[90m<chr>\u001b[39m\u001b[23m \"Black\", \"White\", \"Black\", \"Asian\", \"Black\", \"White\"...\n",
      "$ income         \u001b[3m\u001b[90m<dbl>\u001b[39m\u001b[23m 20000, 56000, NA, NA, 60000, NA, 10000, 68000, 50000...\n",
      "$ educ           \u001b[3m\u001b[90m<chr>\u001b[39m\u001b[23m \"High school or less\", \"College degree\", \"College de...\n",
      "$ partyid        \u001b[3m\u001b[90m<chr>\u001b[39m\u001b[23m \"Independent\", \"Independent\", \"Democrat\", \"Independe...\n",
      "$ polaffil       \u001b[3m\u001b[90m<chr>\u001b[39m\u001b[23m \"Liberal\", \"Moderate\", \"Liberal\", \"Moderate\", \"Conse...\n",
      "$ trump          \u001b[3m\u001b[90m<chr>\u001b[39m\u001b[23m \"Strongly Disapprove\", \"Strongly Approve\", \"Strongly...\n",
      "$ hollymoney     \u001b[3m\u001b[90m<chr>\u001b[39m\u001b[23m \"DK/REF\", \"Fair\", \"Fair\", \"DK/REF\", \"Fair\", \"DK/REF\"...\n",
      "$ fed_min_is     \u001b[3m\u001b[90m<dbl>\u001b[39m\u001b[23m 15.0, 12.0, 8.5, NA, 14.0, 8.0, 8.0, 15.0, 7.5, 15.0...\n",
      "$ fed_min_should \u001b[3m\u001b[90m<dbl>\u001b[39m\u001b[23m 15.0, 50.0, 15.0, NA, 14.0, 20.0, 10.0, 14.0, 10.0, ...\n",
      "$ fed_tax_is     \u001b[3m\u001b[90m<dbl>\u001b[39m\u001b[23m NA, 3, 28, NA, 33, NA, NA, 21, 15, NA, 33, NA, NA, N...\n",
      "$ fed_tax_should \u001b[3m\u001b[90m<dbl>\u001b[39m\u001b[23m NA, 10, 35, NA, 15, NA, 20, 3, 30, 15, 33, NA, NA, 2...\n",
      "$ redist         \u001b[3m\u001b[90m<chr>\u001b[39m\u001b[23m \"No\", \"No\", \"Yes\", \"Yes\", \"No\", \"Yes\", \"No\", \"No\", \"...\n",
      "$ redist_you     \u001b[3m\u001b[90m<chr>\u001b[39m\u001b[23m \"No\", \"Yes\", \"No\", \"Yes\", \"Yes\", \"No\", \"Yes\", \"No\", ...\n",
      "$ redist_people  \u001b[3m\u001b[90m<chr>\u001b[39m\u001b[23m \"No\", \"Yes\", \"Yes\", \"DK/REF\", \"Yes\", \"Yes\", \"No\", \"N...\n",
      "$ baseincome     \u001b[3m\u001b[90m<chr>\u001b[39m\u001b[23m \"Yes\", \"Yes\", \"No\", \"Yes\", \"No\", \"Yes\", \"Yes\", \"DK/R...\n",
      "$ faircomp       \u001b[3m\u001b[90m<chr>\u001b[39m\u001b[23m \"No\", \"DK/REF\", \"Yes\", \"No\", \"No\", \"Yes\", \"No\", \"No\"...\n",
      "$ ceofair        \u001b[3m\u001b[90m<chr>\u001b[39m\u001b[23m \"Unfair\", \"Unfair\", \"Unfair\", \"DK/REF\", \"Unfair\", \"U...\n",
      "$ attractive     \u001b[3m\u001b[90m<chr>\u001b[39m\u001b[23m \"Very attractive\", \"8\", \"6\", \"DK/REF\", \"7\", \"8\", \"4\"...\n"
     ]
    }
   ],
   "source": [
    "## DATA\n",
    "cah <- read_csv(\"201806-CAH_PulseOfTheNation_Raw.csv\")\n",
    "## variable names currently full questions - need to rename\n",
    "new_names <- c(\"gender\", \"age\", \"agerange\", \"race\", \"income\", \"educ\", \"partyid\", \"polaffil\", \n",
    "               \"trump\", \"hollymoney\", \"fed_min_is\", \"fed_min_should\", \"fed_tax_is\", \"fed_tax_should\", \n",
    "               \"redist\", \"redist_you\", \"redist_people\", \"baseincome\", \"faircomp\", \"ceofair\", \"attractive\")\n",
    "colnames(cah) <- new_names\n",
    "glimpse(cah)"
   ]
  },
  {
   "cell_type": "code",
   "execution_count": 11,
   "metadata": {},
   "outputs": [
    {
     "data": {
      "text/plain": [
       "   Min. 1st Qu.  Median    Mean 3rd Qu.    Max.    NA's \n",
       "   1.00    8.00   10.00   11.98   12.00 1000.00      82 "
      ]
     },
     "metadata": {},
     "output_type": "display_data"
    },
    {
     "data": {
      "text/html": [
       "4"
      ],
      "text/latex": [
       "4"
      ],
      "text/markdown": [
       "4"
      ],
      "text/plain": [
       "[1] 4"
      ]
     },
     "metadata": {},
     "output_type": "display_data"
    }
   ],
   "source": [
    "summary(cah$fed_min_is)\n",
    "sum(cah$fed_min_is > 40, na.rm = TRUE)"
   ]
  },
  {
   "cell_type": "code",
   "execution_count": 14,
   "metadata": {},
   "outputs": [
    {
     "data": {
      "text/plain": [
       "   Min. 1st Qu.  Median    Mean 3rd Qu.    Max. \n",
       "   1.00    8.00   10.00   10.25   12.00   35.00 "
      ]
     },
     "metadata": {},
     "output_type": "display_data"
    }
   ],
   "source": [
    "cah1 <- cah %>% drop_na(fed_min_is) %>% filter(fed_min_is < 40)\n",
    "summary(cah1$fed_min_is)"
   ]
  },
  {
   "cell_type": "code",
   "execution_count": 16,
   "metadata": {},
   "outputs": [
    {
     "data": {
      "text/plain": [
       "\n",
       "\tOne Sample t-test\n",
       "\n",
       "data:  cah1$fed_min_is\n",
       "t = 22.923, df = 711, p-value < 2.2e-16\n",
       "alternative hypothesis: true mean is greater than 7.25\n",
       "95 percent confidence interval:\n",
       " 10.03711      Inf\n",
       "sample estimates:\n",
       "mean of x \n",
       " 10.25287 \n"
      ]
     },
     "metadata": {},
     "output_type": "display_data"
    }
   ],
   "source": [
    "# t.test(x, # x is the vector of sample data\n",
    "       # alternative = c(\"two.sided\", \"less\", \"greater\"), # pick one alternative hypothesis\n",
    "       # mu = 0) # set mu to the null hypothesis mean\n",
    "\n",
    "t.test(cah1$fed_min_is, mu = 7.25, alternative = \"greater\")"
   ]
  },
  {
   "cell_type": "code",
   "execution_count": 38,
   "metadata": {},
   "outputs": [
    {
     "data": {
      "image/png": "[encoded data removed]",
      "text/plain": [
       "plot without title"
      ]
     },
     "metadata": {
      "image/png": {
       "height": 360,
       "width": 480
      },
      "text/plain": {
       "height": 360,
       "width": 480
      }
     },
     "output_type": "display_data"
    }
   ],
   "source": [
    "bold.14.text <- element_text(face = \"bold\", size = 14)\n",
    "## s1 is the minimum requirement for a PQ plot of histogram of one sample distribution\n",
    "s1 <- cah1 %>% ggplot(aes(x = fed_min_is)) +\n",
    "                geom_histogram(bins = 30, fill = \"magenta\") +\n",
    "      labs(x = \"Federal Minimum Wage\", y = \"Frequency\",\n",
    "           title = \"What is the federal minimum wage?\",\n",
    "           caption = \"CAH Survey June 2018\") +\n",
    "      theme(text = bold.14.text)\n",
    "# we can add a line and annotation to show sample mean\n",
    "s2 <- s1 + geom_vline(xintercept = mean(cah1$fed_min_is), color = \"#00bcd9\", size = 2) +\n",
    "           annotate(geom=\"text\", x=mean(cah1$fed_min_is)+10, y=125, \n",
    "                    label=paste0(\"Sample Mean = \", dollar(mean(cah1$fed_min_is))),\n",
    "                    color = \"#009bb3\", size = 6, fontface = 2) \n",
    "# we can also add a line and annotation to show population/null hypothesis mean\n",
    "s3 <- s2 + geom_vline(xintercept = 7.25, color = \"#669900\", size = 2) +\n",
    "           annotate(geom=\"text\", x=7.25+15, y=100, \n",
    "                   label=\"Actual Minimum Wage = $7.25\",\n",
    "                   color = \"#669900\", size = 6, fontface = 2) \n",
    "t1 <- textGrob(expression(\"Concentration of \" * phantom(bold(\"affluence\")) * \"and\" * phantom(bold(\"poverty\")) * \" nationwide\"),\n",
    "                 x = 0.5, y = 1.1, gp = gpar(col = \"black\"))\n",
    "\n",
    "t2 <- textGrob(expression(phantom(\"Concentration of \") * bold(\"affluence\") * phantom(\" and poverty nationwide\")),\n",
    "                 x = 0.5, y = 1.1, gp = gpar(col = \"#EEB422\"))\n",
    "\n",
    "t3 <- textGrob(expression(phantom(\"Concentration of affluence and \") * bold(\"poverty\") * phantom(\" nationwide\")),\n",
    "                 x = 0.5, y = 1.1, gp = gpar(col = \"#238E68\"))s3"
   ]
  },
  {
   "cell_type": "code",
   "execution_count": 50,
   "metadata": {},
   "outputs": [
    {
     "name": "stderr",
     "output_type": "stream",
     "text": [
      "Warning message:\n",
      "\"Removed 9 rows containing non-finite values (stat_boxplot).\"\n"
     ]
    },
    {
     "data": {
      "image/png": "[encoded data removed]",
      "text/plain": [
       "plot without title"
      ]
     },
     "metadata": {
      "image/png": {
       "height": 360,
       "width": 480
      },
      "text/plain": {
       "height": 360,
       "width": 480
      }
     },
     "output_type": "display_data"
    }
   ],
   "source": [
    "t1 <- textGrob(expression(\"Boxplot of guessed federal minimum wage with \" * phantom(bold(\"sample mean\")) * \"and\" * phantom(bold(\"population value\"))),\n",
    "                 x = 0.5, y = 1.1, gp = gpar(col = \"black\"))\n",
    "\n",
    "t2 <- textGrob(expression(phantom(\"Boxplot of guessed federal minimum wage with \") * bold(\"sample mean\") * phantom(\" and population value\")),\n",
    "                 x = 0.5, y = 1.1, gp = gpar(col = \"#00bcd9\"))\n",
    "\n",
    "t3 <- textGrob(expression(phantom(\"Boxplot of guessed federal minimum wage with sample mean and\") * bold(\"population value\")),\n",
    "                 x = 0.5, y = 1.1, gp = gpar(col = \"#669900\"))\n",
    "\n",
    "p <- cah1 %>% ggplot(aes(y = fed_min_is)) +\n",
    "            geom_boxplot() +\n",
    "            ylim(0,20) +\n",
    "            geom_hline(yintercept = 7.25, color = \"#669900\", size = 2) +\n",
    "            geom_hline(yintercept = mean(cah1$fed_min_is), color = \"#00bcd9\", size = 2) +\n",
    "            annotation_custom(grobTree(t1, t2, t3))\n",
    "\n",
    "g <- ggplot_gtable(ggplot_build(p))\n",
    "g$layout$clip[g$layout$name == \"panel\"] <- \"off\"\n",
    "\n",
    "# re-draw\n",
    "grid.draw(g)"
   ]
  },
  {
   "cell_type": "code",
   "execution_count": 53,
   "metadata": {},
   "outputs": [
    {
     "name": "stderr",
     "output_type": "stream",
     "text": [
      "Downloading GitHub repo clauswilke/ggtext@master\n",
      "\n"
     ]
    },
    {
     "name": "stdout",
     "output_type": "stream",
     "text": [
      "ggplot2     (3.2.1     -> 8bc39f285...) [GitHub]\n",
      "gridtext    (NA        -> 0.1.1       ) [CRAN]\n",
      "rlang       (0.4.2     -> 0.4.5       ) [CRAN]\n",
      "stringi     (NA        -> 1.4.6       ) [CRAN]\n",
      "farver      (2.0.1     -> 2.0.3       ) [CRAN]\n",
      "cli         (2.0.1     -> 2.0.2       ) [CRAN]\n",
      "fansi       (0.4.0     -> 0.4.1       ) [CRAN]\n",
      "vctrs       (0.2.1     -> 0.2.3       ) [CRAN]\n",
      "digest      (0.6.23    -> 0.6.25      ) [CRAN]\n",
      "xfun        (0.11      -> 0.12        ) [CRAN]\n",
      "mime        (0.8       -> 0.9         ) [CRAN]\n",
      "rstudioapi  (0.10      -> 0.11        ) [CRAN]\n",
      "callr       (3.4.0     -> 3.4.2       ) [CRAN]\n",
      "prettyunits (1.1.0     -> 1.1.1       ) [CRAN]\n",
      "processx    (3.4.1     -> 3.4.2       ) [CRAN]\n",
      "ps          (1.3.0     -> 1.3.2       ) [CRAN]\n",
      "RCurl       (1.95-4.12 -> 1.98-1.1    ) [CRAN]\n",
      "testthat    (2.3.1     -> 2.3.2       ) [CRAN]\n"
     ]
    },
    {
     "name": "stderr",
     "output_type": "stream",
     "text": [
      "Installing 17 packages: gridtext, rlang, stringi, farver, cli, fansi, vctrs, digest, xfun, mime, rstudioapi, callr, prettyunits, processx, ps, RCurl, testthat\n",
      "\n"
     ]
    },
    {
     "ename": "ERROR",
     "evalue": "Error: Failed to install 'ggtext' from GitHub:\n  (converted from warning) incomplete final line found on 'C:\\Users\\Adrianne\\Documents\\.Rprofile'\n",
     "output_type": "error",
     "traceback": [
      "Error: Failed to install 'ggtext' from GitHub:\n  (converted from warning) incomplete final line found on 'C:\\Users\\Adrianne\\Documents\\.Rprofile'\nTraceback:\n",
      "1. devtools::install_github(\"clauswilke/ggtext\")",
      "2. pkgbuild::with_build_tools({\n .     ellipsis::check_dots_used(action = getOption(\"devtools.ellipsis_action\", \n .         rlang::warn))\n .     {\n .         remotes <- lapply(repo, github_remote, ref = ref, subdir = subdir, \n .             auth_token = auth_token, host = host)\n .         install_remotes(remotes, auth_token = auth_token, host = host, \n .             dependencies = dependencies, upgrade = upgrade, force = force, \n .             quiet = quiet, build = build, build_opts = build_opts, \n .             build_manual = build_manual, build_vignettes = build_vignettes, \n .             repos = repos, type = type, ...)\n .     }\n . }, required = FALSE)",
      "3. withr::with_path(rtools_path(), code)",
      "4. force(code)",
      "5. install_remotes(remotes, auth_token = auth_token, host = host, \n .     dependencies = dependencies, upgrade = upgrade, force = force, \n .     quiet = quiet, build = build, build_opts = build_opts, build_manual = build_manual, \n .     build_vignettes = build_vignettes, repos = repos, type = type, \n .     ...)",
      "6. tryCatch(res[[i]] <- install_remote(remotes[[i]], ...), error = function(e) {\n .     stop(remote_install_error(remotes[[i]], e))\n . })",
      "7. tryCatchList(expr, classes, parentenv, handlers)",
      "8. tryCatchOne(expr, names, parentenv, handlers[[1L]])",
      "9. value[[3L]](cond)"
     ]
    }
   ],
   "source": [
    "devtools::install_github(\"clauswilke/ggtext\")"
   ]
  },
  {
   "cell_type": "code",
   "execution_count": null,
   "metadata": {},
   "outputs": [],
   "source": []
  }
 ],
 "metadata": {
  "kernelspec": {
   "display_name": "R",
   "language": "R",
   "name": "ir"
  },
  "language_info": {
   "codemirror_mode": "r",
   "file_extension": ".r",
   "mimetype": "text/x-r-source",
   "name": "R",
   "pygments_lexer": "r",
   "version": "3.6.1"
  }
 },
 "nbformat": 4,
 "nbformat_minor": 2
}
