{
 "cells": [
  {
   "cell_type": "markdown",
   "metadata": {},
   "source": [
    "# Lab 2: Descriptive Statistics and Visualization\n",
    "In this lab we will look at different ways to explore our sample data and get a feel for the distribution of our variables.  \n",
    "\n",
    "The lab will start with a brief rundown of functions for common descriptive statistics.  The bulk of the lab will focus on using ggplot2 to create a variety of charts and graphs that will be relevant as we move forward in this course.\n",
    "\n",
    "- [Descriptive Statistics](#desc)\n",
    "    - [Univariate](#uni)\n",
    "    - [Bivariate](#bistat)\n",
    "- [Vizualizations](#viz)\n",
    "    - [Histogram](#hist)\n",
    "    - [Bar Chart](#bar)\n",
    "    - [Boxplot](#box)\n",
    "    - [Grouped Boxplot](#gbox)\n",
    "    - [Grouped Means Plot](#gmean)\n",
    "    - [Scatterplot](#scatter)"
   ]
  },
  {
   "cell_type": "code",
   "execution_count": null,
   "metadata": {},
   "outputs": [],
   "source": [
    "#load packages\n",
    "library(tidyverse) # includes ggplot2\n",
    "## magrittr is installed as a part of tidyverse, but not loaded unless loaded explicitly\n",
    "library(magrittr) # so I can use the assignment pipe operator ( %<>% )\n",
    "## install.packages(\"ggpubr\")\n",
    "library(ggpubr) # containes line/dot plot for visualizing means\n",
    "## install.packages(\"descr\")\n",
    "library(descr) ## for \"pretty\" two-way table CrossTable()\n"
   ]
  },
  {
   "cell_type": "markdown",
   "metadata": {},
   "source": [
    "In this lab I'm going to use polling data collected by the creators of the card came Cards Against Humanity - https://thepulseofthenation.com/#the-poll.  There are a mix of serious and silly questions. This particular poll is from September 2017.\n",
    "\n",
    "Because they have labeled the variables with the full questions the first thing I'm going to do is relabel the variables with shorter names for use inside the coding.  Never use variable names that are full sentences with spaces, it's just an invitation for trouble (and a lot of typing)."
   ]
  },
  {
   "cell_type": "code",
   "execution_count": null,
   "metadata": {},
   "outputs": [],
   "source": [
    "#load data\n",
    "cah_poll <- read_csv('201709-CAH_PulseOfTheNation_Raw.csv')\n",
    "head(cah_poll)"
   ]
  },
  {
   "cell_type": "code",
   "execution_count": null,
   "metadata": {},
   "outputs": [],
   "source": [
    "#view colnames\n",
    "colnames(cah_poll)"
   ]
  },
  {
   "cell_type": "code",
   "execution_count": null,
   "metadata": {},
   "outputs": [],
   "source": [
    "#rename columns\n",
    "new_names <- c(\"income\", \"gender\", \"age\", \"age_cat\", \"polaffil\", \"apptrump\", \"educ\", \"race\", \"marital\", \"robots\",\n",
    "              \"climate\", \"transformers\", \"sci_good\", \"vaccines\", \"books\", \"ghosts\", \"fedbudget\", \"fedfundsci\", \"earthsun\",\n",
    "              \"smartdumb\", \"urinate\")\n",
    "colnames(cah_poll) <- new_names\n",
    "glimpse(cah_poll)"
   ]
  },
  {
   "cell_type": "markdown",
   "metadata": {},
   "source": [
    "### Data Cleaning\n",
    "I'm going to run through some quick data cleaning.  I will include the code here for your reference, but not explain it in detail.  You can refer to the Lab 1 notebook for explanations of these functions in more detail."
   ]
  },
  {
   "cell_type": "code",
   "execution_count": null,
   "metadata": {},
   "outputs": [],
   "source": [
    "## summary for numerical variables\n",
    "summary(select_if(cah_poll, is.numeric))"
   ]
  },
  {
   "cell_type": "code",
   "execution_count": null,
   "metadata": {},
   "outputs": [],
   "source": [
    "## so I'm not losing observations I'm going to impute the numerical variables.  \n",
    "## Most I will use median/mean imputation, but for transformers movies I'm going to impute 0.\n",
    "\n",
    "# note, I'm overwriting my df and my variables here, If I make a mistake I'll need to reload my data!\n",
    "cah_poll  %<>% ## assignment pipe!\n",
    "    mutate(income = if_else(is.na(income), median(income, na.rm = TRUE), income),\n",
    "          transformers = if_else(is.na(transformers), 0, transformers),\n",
    "          books = if_else(is.na(books), median(books, na.rm = TRUE), books),\n",
    "          fedbudget = if_else(is.na(fedbudget), median(fedbudget, na.rm = TRUE), fedbudget)) \n",
    "\n",
    "\n",
    "# if_else() is a helpful compact way to use an if statement inside mutate (although you can technically use it other places)\n",
    "# if_else(logical statement, value if TRUE, value if FALSE)\n",
    "# in this case if the variable is NA I'm assigning it the mean/median, otherwise i'll just use the existing value of that variable"
   ]
  },
  {
   "cell_type": "code",
   "execution_count": null,
   "metadata": {},
   "outputs": [],
   "source": [
    "# make all chr variables factors\n",
    "cah_poll %<>% mutate_if(is.character, as.factor) ## mutate_if also works as an if statement\n",
    "summary(select_if(cah_poll, is.factor))\n"
   ]
  },
  {
   "cell_type": "code",
   "execution_count": null,
   "metadata": {},
   "outputs": [],
   "source": [
    "# only 2 DK/REF on gender, so I'm going to subset the df to not include those obs\n",
    "cah_poll %<>% filter(gender != \"DK/REF\")\n",
    "## remember even if you filter out observations based on a factor level, that factor level will persist unless dropped\n",
    "cah_poll$gender <- droplevels(cah_poll$gender) \n",
    "summary(cah_poll$gender)"
   ]
  },
  {
   "cell_type": "markdown",
   "metadata": {},
   "source": [
    "<a id=\"desc\"></a>\n",
    "## Descriptive Statistics\n",
    "I'll briefly run through first univariate then bivariate descriptive statistics.  Descriptive statistics describe our sample, but are not meant for inference to the population (those are inferential statistics)\n",
    "\n",
    "<a id=\"uni\"></a>\n",
    "## Univariate\n",
    "### Categorical Variables\n",
    "For categorical variables, we typically look at frequencies and/or percentages to get a feel for the distribution of our variable.  There are a number of ways you've seen that you can do this, with table(), summary(), and with count().  I'm going to use summarize to create a table that has both frequencies and percentages."
   ]
  },
  {
   "cell_type": "code",
   "execution_count": null,
   "metadata": {},
   "outputs": [],
   "source": [
    "## frequency table - do you beleive in ghosts?\n",
    "cah_poll  %>% mutate(ghosts = fct_infreq(ghosts)) %>% ## using fct_infreq to order levels by frequency for the purposes of the chart\n",
    "              group_by(ghosts)  %>% \n",
    "              summarize(frequency = n(),\n",
    "                        percentage = n()/dim(cah_poll)[1]*100) ## use dim to get number of rows in df overall (the first dim is rows)"
   ]
  },
  {
   "cell_type": "markdown",
   "metadata": {},
   "source": [
    "### Numerical Variables\n",
    "We learned in the last lab that we can get a summary of the major descriptive statistics (mean, median, min, max, 25% percentile, and 75% percentile) using summary()"
   ]
  },
  {
   "cell_type": "code",
   "execution_count": null,
   "metadata": {},
   "outputs": [],
   "source": [
    "summary(cah_poll$income)"
   ]
  },
  {
   "cell_type": "markdown",
   "metadata": {},
   "source": [
    "There are also individual functions that may come in handy:"
   ]
  },
  {
   "cell_type": "code",
   "execution_count": null,
   "metadata": {},
   "outputs": [],
   "source": [
    "#mean\n",
    "mean(cah_poll$income)"
   ]
  },
  {
   "cell_type": "code",
   "execution_count": null,
   "metadata": {},
   "outputs": [],
   "source": [
    "#median\n",
    "median(cah_poll$income)"
   ]
  },
  {
   "cell_type": "code",
   "execution_count": null,
   "metadata": {},
   "outputs": [],
   "source": [
    "# there is no built-in function for mode, but we can define our own\n",
    "get_mode <- function(v) {\n",
    "    unique_value <- unique(v)\n",
    "    unique_value[which.max(tabulate(match(v, unique_value)))]\n",
    "}\n",
    "get_mode(cah_poll$income)"
   ]
  },
  {
   "cell_type": "code",
   "execution_count": null,
   "metadata": {},
   "outputs": [],
   "source": [
    "#variance\n",
    "var(cah_poll$income)"
   ]
  },
  {
   "cell_type": "code",
   "execution_count": null,
   "metadata": {},
   "outputs": [],
   "source": [
    "# standard deviation\n",
    "sd(cah_poll$income)"
   ]
  },
  {
   "cell_type": "code",
   "execution_count": null,
   "metadata": {},
   "outputs": [],
   "source": [
    "#range/min/max\n",
    "min(cah_poll$income)\n",
    "max(cah_poll$income)\n",
    "range(cah_poll$income)\n",
    "\n",
    "#if I want to see max without scientific notation\n",
    "format(max(cah_poll$income), scientific=F) # note, this returns a string, not a number"
   ]
  },
  {
   "cell_type": "code",
   "execution_count": null,
   "metadata": {},
   "outputs": [],
   "source": [
    "#percentiles\n",
    "# summary prints 25th, 50th (median), and 75th by default\n",
    "# you can get any percentile you want with the quantile function\n",
    "quantile(cah_poll$income, c(.10, .20, .25, .32, .57, .75, .98)) "
   ]
  },
  {
   "cell_type": "code",
   "execution_count": null,
   "metadata": {},
   "outputs": [],
   "source": [
    "#IQR - interquartile range\n",
    "IQR(cah_poll$income) ## the IQR of income is zero because 25th and 75th percentile are identical\n",
    "print(\"---------------\")\n",
    "IQR(cah_poll$books)"
   ]
  },
  {
   "cell_type": "markdown",
   "metadata": {},
   "source": [
    "<a id=\"bistat\"></a>\n",
    "## Bivariate Statistics \n",
    "Bivariate Statistics are statistics that include two variables.  Multivariate statistics include two or more variables.\n",
    "\n",
    "### Categorical\n",
    "Similar to the frequency table above, we can obtain frequency tables that reflect the intersection of two categorical variables.\n",
    "\n",
    "I'm going to create a two-way table of the two questions:\n",
    "'Do you agree or disagree with the following statement: scientists are generally honest and are serving the public good.' \n",
    "'Do you agree or disagree with the following statement: vaccines are safe and protect children from disease.'"
   ]
  },
  {
   "cell_type": "code",
   "execution_count": null,
   "metadata": {},
   "outputs": [],
   "source": [
    "table(cah_poll$sci_good, cah_poll$vaccines)"
   ]
  },
  {
   "cell_type": "markdown",
   "metadata": {},
   "source": [
    "The long factor labels make the table a bit hard to read."
   ]
  },
  {
   "cell_type": "code",
   "execution_count": null,
   "metadata": {},
   "outputs": [],
   "source": [
    "## use prop.table to get proportions instead of frequencies - multiply by 100 to get percentages\n",
    "prop.table(table(cah_poll$sci_good, cah_poll$vaccines))*100"
   ]
  },
  {
   "cell_type": "code",
   "execution_count": null,
   "metadata": {},
   "outputs": [],
   "source": [
    "## as.data.frame.matrix() let's us make the table a data.frame\n",
    "as.data.frame.matrix(table(cah_poll$sci_good, cah_poll$vaccines)) "
   ]
  },
  {
   "cell_type": "markdown",
   "metadata": {},
   "source": [
    "We can use the package \"descr\" if we want a \"prettier\" table with percentages (row %, col % and overall %)"
   ]
  },
  {
   "cell_type": "code",
   "execution_count": null,
   "metadata": {},
   "outputs": [],
   "source": [
    "## quickly reorder factor levels for better table\n",
    "cah_poll %<>% mutate(sci_good = fct_relevel(sci_good, \"Strongly Disagree\", \"Somewhat Disagree\", \"Neither Agree nor Disagree\",\n",
    "                                          \"Somewhat Agree\", \"Strongly Agree\"),\n",
    "                   vaccines = fct_relevel(vaccines, \"Strongly Disagree\", \"Somewhat Disagree\", \"Neither Agree nor Disagree\",\n",
    "                                          \"Somewhat Agree\", \"Strongly Agree\")) "
   ]
  },
  {
   "cell_type": "code",
   "execution_count": null,
   "metadata": {},
   "outputs": [],
   "source": [
    "CrossTable(cah_poll$sci_good, cah_poll$vaccines, prop.chisq = FALSE, prop.r = FALSE, prop.c = FALSE)\n",
    "## I've used prop.r = FALSE and prop.c = FALSE to turn off row and col proportions, but you can include those if you wish"
   ]
  },
  {
   "cell_type": "markdown",
   "metadata": {},
   "source": [
    "### Grouped Statistics\n",
    "Often we want to look at numerical descriptive statistics (mean, median) but within groups of a categorical variable.  We saw an example of this on the first homework."
   ]
  },
  {
   "cell_type": "code",
   "execution_count": null,
   "metadata": {},
   "outputs": [],
   "source": [
    "# lets look at a summary of age by whether the R thinks it's ok to urinate in the shower\n",
    "cah_poll  %>% \n",
    "    mutate(urinate = fct_infreq(urinate)) %>% ## ordering factor by frequency for this table\n",
    "    group_by(urinate)  %>% \n",
    "    summarize(freq = n(),\n",
    "              mean_age = mean(age), \n",
    "              med_age = median(age),\n",
    "              stddev_age = sd(age))"
   ]
  },
  {
   "cell_type": "markdown",
   "metadata": {},
   "source": [
    "<a id=\"viz\"></a>\n",
    "## Visualizations\n",
    "Now we'll move onto making charts and graphs, mostly with ggplot2.\n",
    "\n",
    "<a id=\"hist\"></a>\n",
    "### Histogram\n",
    "A histogram is a graphical representation of the distribution of a numerical variable.  The values of the variable are plotted on the x-axis and the bars/y-axis represent the frequency of those observations.\n",
    "\n",
    "The most basic way to make a histogram in R is with base R"
   ]
  },
  {
   "cell_type": "code",
   "execution_count": null,
   "metadata": {},
   "outputs": [],
   "source": [
    "hist(cah_poll$income)"
   ]
  },
  {
   "cell_type": "markdown",
   "metadata": {},
   "source": [
    "This is not particularly attractive and difficult to customize and make publication quality.  We can do better with ggplot with just the default settings."
   ]
  },
  {
   "cell_type": "code",
   "execution_count": null,
   "metadata": {},
   "outputs": [],
   "source": [
    "options(repr.plot.width=6, repr.plot.height=5) ## plot size options for Jupyter notebook ONLY\n",
    "\n",
    "cah_poll  %>% ggplot(aes(x=income))  +\n",
    "            geom_histogram()\n",
    "\n",
    "## nameofdf  %>% ggplot() creates the graph with the data from that df\n",
    "## we use  %>% to pass the data to ggplot() but once we call ggplot we use + to add our customizations\n",
    "## aes() is where we define our aesthetics, these are the things we want included, such as x and y variables\n",
    "## geom_ describes the geometry we want to use (the shape we want our data to be arranged in)"
   ]
  },
  {
   "cell_type": "code",
   "execution_count": null,
   "metadata": {},
   "outputs": [],
   "source": [
    "# I can customize the number of bins like this\n",
    "cah_poll  %>% mutate(income_in_k = income/1000)  %>% ## divide income by 1000 so that axis ticks are not unreadable\n",
    "    ggplot(aes(x=income_in_k))  + ## create the ggplot, define our aesthetics, which are variables/data that will make our graph\n",
    "        geom_histogram(bins = 20) + ## use the \"geometry\" or shape histogram\n",
    "        labs(x = \"Income in $1000s\", y = \"Frequency\", title = \"Histogram of Income\") ## relabel axes and add overall title"
   ]
  },
  {
   "cell_type": "markdown",
   "metadata": {},
   "source": [
    "#### Skewness and Kurtosis\n",
    "We can visually inspect our histograms for evidence of skewness and kurtosis.  We can also use a density plot which smooths the distribution into a curve."
   ]
  },
  {
   "cell_type": "code",
   "execution_count": null,
   "metadata": {},
   "outputs": [],
   "source": [
    "d <- density(cah_poll$income) # returns the density data \n",
    "plot(d)"
   ]
  },
  {
   "cell_type": "markdown",
   "metadata": {},
   "source": [
    "We can see that the distribution of income is positively skewed (the bulk of the distribution is on the left side).  It also has positive kurtosis (the peak of the distribution is taller and skinnier than a normal distribution).\n"
   ]
  },
  {
   "cell_type": "markdown",
   "metadata": {},
   "source": [
    "<a id=\"bar\"></a>\n",
    "### Bar Chart\n",
    "Histograms visually show us the frequencies of values of a numerical variable, but what if we wanted to graphically depict the frequencies in each level of a categorical variable?  We would use a bar chart."
   ]
  },
  {
   "cell_type": "code",
   "execution_count": null,
   "metadata": {},
   "outputs": [],
   "source": [
    "cah_poll  %>% ggplot(aes(x = apptrump)) +\n",
    "                geom_bar()            "
   ]
  },
  {
   "cell_type": "markdown",
   "metadata": {},
   "source": [
    "This gives us a basic, but boring, graph that needs to be edited to clean up the format, make sure our labels aren't overlapping, etc.\n"
   ]
  },
  {
   "cell_type": "code",
   "execution_count": null,
   "metadata": {},
   "outputs": [],
   "source": [
    "options(repr.plot.width=9, repr.plot.height=6) ## plot size options for Jupyter notebook ONLY\n",
    "## we can save our plot in progress \n",
    "p <- cah_poll  %>% mutate(apptrump = fct_relevel(apptrump, \"DK/REF\", \"Strongly disapprove\", \"Somewhat disapprove\", \"Neither approve nor disapprove\",\n",
    "                                          \"Somewhat Approve\", \"Strongly Approve\")) %>% ##reorder from disagree to agree\n",
    "                ggplot(aes(x = apptrump, fill = apptrump )) + ## using fill inside aes will fill the bars based on the variable specified\n",
    "                geom_bar() +\n",
    "                theme(legend.position = \"none\") + #remove legend that is automatically created when we use fill\n",
    "                coord_flip() + ## flip the chart from vert to horiz so that the labels are readable\n",
    "                labs(x = \"\", title = \"Approval of Trump\")  ## even though we flipped it, apptrump is still the x variable.\n",
    "                        ## blanking the x label so it doesn't appear\n",
    "\n",
    "# set up some text formatting\n",
    "bold.14.text <- element_text(face = \"bold\", size = 14) ## define a text style\n",
    "p + theme(text = bold.14.text) # take saved plot that we called p and add more options - defined text formatting/style"
   ]
  },
  {
   "cell_type": "markdown",
   "metadata": {},
   "source": [
    "<a id=\"box\"></a>\n",
    "### Boxplot\n",
    "A boxplot is another way to visually look at the distribution of a numerical variable.  The box is based on the median and the IQR, and does not depict the mean."
   ]
  },
  {
   "cell_type": "code",
   "execution_count": null,
   "metadata": {},
   "outputs": [],
   "source": [
    "cah_poll  %>% ggplot(aes(y = age)) + ## our numerical variable is y, not x.\n",
    "                geom_boxplot()    "
   ]
  },
  {
   "cell_type": "markdown",
   "metadata": {},
   "source": [
    "<a id=\"gbox\"></a>\n",
    "### Grouped Boxplot\n",
    "More interesting, we can show a box plot for our numerical variable for each level of a categorical variable.  The categorical variable is listed as the x variable"
   ]
  },
  {
   "cell_type": "code",
   "execution_count": null,
   "metadata": {},
   "outputs": [],
   "source": [
    "## again customizing it and cleaning it up as well\n",
    "bold.14.text <- element_text(face = \"bold\", size = 14) ## define a text style\n",
    "cah_poll  %>% mutate(urinate = fct_infreq(urinate)) %>%\n",
    "            ggplot(aes(y = age, x = urinate, fill = urinate)) + \n",
    "                ## our numerical variable is y, not x. x is the categorical variable\n",
    "                ## we use fill to color our boxes.\n",
    "                geom_boxplot() +\n",
    "                theme(legend.position = \"none\", #remove legend that is automatically created when we use fill\n",
    "                      text = bold.14.text) + ## theme chart with defined text style\n",
    "                labs(title = \"Distribution of Age by acceptability of urinating in the shower\",\n",
    "                    x = \"Is it acceptable to urinate in the shower?\") +\n",
    "                scale_fill_manual(values=c(\"#FF33CC\", \"#33FF99\", \"#660099\")) ## specify our own fill colors with hex codes\n",
    "\n",
    "## get your own hex color codes at https://htmlcolorcodes.com/"
   ]
  },
  {
   "cell_type": "markdown",
   "metadata": {},
   "source": [
    "When our goal is to compare means with a t-test or ANOVA analysis, we can get a feel for the distribution with a boxplot, but since it shows the median and not the mean, we can instead plot our points plus the mean.\n",
    "\n",
    "<a id=\"gmean\"></a>\n",
    "### Grouped Mean Plot\n",
    "I don't know if it has real name, but I call this the grouped mean plot.  We get points that represent all of our observations on our numerical variable grouped by levels of of our categorical variable, with the mean (and error bars that reflect the uncertainty around the mean)."
   ]
  },
  {
   "cell_type": "code",
   "execution_count": null,
   "metadata": {},
   "outputs": [],
   "source": [
    "cah_poll %>% mutate(urinate = fct_infreq(urinate)) %>%\n",
    "            ggline(x = \"urinate\", y = \"age\", ## define variables\n",
    "                   add = c(\"mean_se\", \"jitter\"),  ## add mean and error bars\n",
    "                   ## jitter separates the points horizontally so that they are not all overlapping each other in one line\n",
    "                   add.params = list(color=\"urinate\"), ## use categorical variable to color points\n",
    "                   ylab = \"Age\",  #y label\n",
    "                   xlab = \"Acceptable to urinate in shower?\")  #x label\n"
   ]
  },
  {
   "cell_type": "code",
   "execution_count": null,
   "metadata": {},
   "outputs": [],
   "source": [
    "## because ggline is built on top of ggplot2 we can add our ggplot2 customizations if we want\n",
    "bold.14.text <- element_text(face = \"bold\", size = 14)\n",
    "cah_poll %>% mutate(urinate = fct_infreq(urinate)) %>%\n",
    "            ggline(x = \"urinate\", y = \"age\", ## define variables\n",
    "                   add = c(\"mean_se\", \"jitter\"),  ## add mean and error bars\n",
    "                   add.params = list(color=\"urinate\"), ## use categorical variable to color points\n",
    "                   ylab = \"Age\",  #y label\n",
    "                   xlab = \"Acceptable to urinate in shower?\") + #x label\n",
    "            theme(legend.position = \"none\", #remove legend that is automatically created when we use param color\n",
    "                      text = bold.14.text) +\n",
    "            scale_color_manual(values=c(\"#FF33CC\", \"#33FF99\", \"#660099\"))  ## specify our own colors with hex codes"
   ]
  },
  {
   "cell_type": "markdown",
   "metadata": {},
   "source": [
    "Finally we'll look at scatterplots, which is a graphical way to look at the joint distribution of two numerical variables.\n",
    "\n",
    "<a id=\"scatter\"></a>\n",
    "### Scatterplot\n",
    "Let's look at the correlation between the R's estimate of percentage of federal budget spent on science vs. the R's age."
   ]
  },
  {
   "cell_type": "code",
   "execution_count": null,
   "metadata": {},
   "outputs": [],
   "source": [
    "## basic scatterplot\n",
    "cah_poll  %>% ggplot(aes(x = fedbudget, y = age)) + ## right now it doesn't matter which is x and which is y\n",
    "                geom_point()    "
   ]
  },
  {
   "cell_type": "markdown",
   "metadata": {},
   "source": [
    "It looks like these two variables are not closely correlated, however, we can still attempt to add a \"best fit line.\""
   ]
  },
  {
   "cell_type": "code",
   "execution_count": null,
   "metadata": {},
   "outputs": [],
   "source": [
    "cah_poll  %>% ggplot(aes(x = fedbudget, y = age)) + \n",
    "                geom_point() +\n",
    "                geom_smooth(method = lm, se = FALSE)"
   ]
  },
  {
   "cell_type": "markdown",
   "metadata": {},
   "source": [
    "It looks like there really is no correlation (the best fit line is nearly flat).\n",
    "We could use some of the options we used previously, here I'm going to add a categorical variable which will color the dots by group."
   ]
  },
  {
   "cell_type": "code",
   "execution_count": null,
   "metadata": {},
   "outputs": [],
   "source": [
    "cah_poll  %>% ggplot(aes(x = fedbudget, y = age, color = gender)) + \n",
    "                geom_point() +\n",
    "                geom_smooth(method = lm, se = FALSE)"
   ]
  },
  {
   "cell_type": "markdown",
   "metadata": {},
   "source": [
    "Now, not only are the dots colored by gender, there are 3 best fit lines, one for each gender.\n",
    "\n",
    "Note - this graph is not PQ - I haven't adjusted all of the labels and added a title."
   ]
  },
  {
   "cell_type": "markdown",
   "metadata": {},
   "source": [
    "## YOUR TURN!\n",
    "Create one graph (of any type shown here) to visualize variable(s) in the cah_poll dataset that we have not yet looked at.  You can run glimpse() to remind you what variables are included in the df."
   ]
  },
  {
   "cell_type": "code",
   "execution_count": null,
   "metadata": {},
   "outputs": [],
   "source": []
  }
 ],
 "metadata": {
  "kernelspec": {
   "display_name": "R",
   "language": "R",
   "name": "ir"
  },
  "language_info": {
   "codemirror_mode": "r",
   "file_extension": ".r",
   "mimetype": "text/x-r-source",
   "name": "R",
   "pygments_lexer": "r",
   "version": "3.6.1"
  }
 },
 "nbformat": 4,
 "nbformat_minor": 2
}
